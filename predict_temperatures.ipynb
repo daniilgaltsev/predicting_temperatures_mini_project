{
  "nbformat": 4,
  "nbformat_minor": 0,
  "metadata": {
    "colab": {
      "provenance": [],
      "toc_visible": true
    },
    "kernelspec": {
      "name": "python3",
      "display_name": "Python 3"
    },
    "language_info": {
      "name": "python"
    }
  },
  "cells": [
    {
      "cell_type": "markdown",
      "source": [
        "# Goal"
      ],
      "metadata": {
        "id": "GuylEarM5LB7"
      }
    },
    {
      "cell_type": "markdown",
      "source": [
        "The climate has an enormous effect on the human activity. One of its more apparent factors is temperature. Knowing how the temperature/climate is going to change in the far and near future can help determine if any steps are needed to mitigate the possible effects (i.e. draughts).\n",
        "\n",
        "The goal of this project is to see if it's possible to predict minimum and maximum temperatures using historical data about monthly temperatures and industrial/economical characteristics from a few countries around the world. This will require developing a supervised regression model using time series data collected from different sources, which will also allow to get a better understanding of what kind of problems might be encountered when working with such data."
      ],
      "metadata": {
        "id": "Aly1QfnKNbGP"
      }
    },
    {
      "cell_type": "markdown",
      "source": [
        "# Imports"
      ],
      "metadata": {
        "id": "2KbY3H1X5VMj"
      }
    },
    {
      "cell_type": "code",
      "source": [
        "from pathlib import Path\n",
        "import warnings\n",
        "\n",
        "from geopy.geocoders import Nominatim\n",
        "import matplotlib.pyplot as plt\n",
        "import numpy as np\n",
        "import pandas as pd\n",
        "import plotly.express as px\n",
        "import seaborn as sns\n",
        "import sklearn\n",
        "from sklearn.linear_model import LinearRegression, Ridge, Lasso\n",
        "from sklearn.preprocessing import PolynomialFeatures\n",
        "from sklearn.ensemble import RandomForestRegressor, GradientBoostingRegressor\n",
        "from sklearn.svm import SVR\n",
        "from sklearn.metrics import mean_squared_error\n",
        "from sklearn.preprocessing import StandardScaler\n",
        "from sklearn.multioutput import MultiOutputRegressor\n",
        "\n",
        "warnings.filterwarnings(\"ignore\", category=sklearn.exceptions.ConvergenceWarning)"
      ],
      "metadata": {
        "id": "FUYsebIV5X2c"
      },
      "execution_count": null,
      "outputs": []
    },
    {
      "cell_type": "markdown",
      "source": [
        "# Data"
      ],
      "metadata": {
        "id": "vtVAyC4RhwHT"
      }
    },
    {
      "cell_type": "markdown",
      "source": [
        "The data for this project is going to be downloaded in this notebook from 2 sources: \n",
        "- [Climate Research Unit](https://crudata.uea.ac.uk/cru/data/hrg/) - temperature data\n",
        "- [The World Bank](https://www.worldbank.org/en/home) - gdp, greenhouse gas emissions, industry, agriculture"
      ],
      "metadata": {
        "id": "LkXh-e0hpqCy"
      }
    },
    {
      "cell_type": "markdown",
      "source": [
        "## Data Links\n",
        "\n",
        "[CRU Dataset](https://crudata.uea.ac.uk/cru/data/hrg/cru_ts_4.06/) (CRU, 2022)\n",
        "\n",
        "[Greenhouse Gas Emissions (kt of $CO_2$ equivalent)](https://data.worldbank.org/indicator/EN.ATM.GHGT.KT.CE) (Climate Watch, 2020)\n",
        "\n",
        "[GDP (current US$)](https://data.worldbank.org/indicator/NY.GDP.MKTP.CD) (World Bank, n.d.)\n",
        "\n",
        "[Industry, value added (% of GDP)](https://data.worldbank.org/indicator/NV.IND.TOTL.ZS) (World Bank, n.d.)\n",
        "\n",
        "[Agriculture, value added (% of GDP)](https://data.worldbank.org/indicator/NV.AGR.TOTL.ZS) (World Bank, n.d.)\n",
        "\n",
        "\n",
        "## Note\n",
        "\n",
        "The data is periodically updated. Be mindful of any possible changes since the time the notebook when was finished (4 December 2022).\n"
      ],
      "metadata": {
        "id": "9DUICm0xb6Uj"
      }
    },
    {
      "cell_type": "markdown",
      "source": [
        "## Data Loading"
      ],
      "metadata": {
        "id": "GDxd1t3Hisv6"
      }
    },
    {
      "cell_type": "markdown",
      "source": [
        "First, we need to download the data from their respective sources."
      ],
      "metadata": {
        "id": "L18yjLncthhG"
      }
    },
    {
      "cell_type": "code",
      "source": [
        "# Download economy sectors and emission data\n",
        "!wget https://api.worldbank.org/v2/en/indicator/EN.ATM.GHGT.KT.CE?downloadformat=csv -q\n",
        "!wget https://api.worldbank.org/v2/en/indicator/NV.IND.TOTL.ZS?downloadformat=csv -q\n",
        "!wget https://api.worldbank.org/v2/en/indicator/NY.GDP.MKTP.CD?downloadformat=csv -q\n",
        "!wget https://api.worldbank.org/v2/en/indicator/NV.AGR.TOTL.ZS?downloadformat=csv -q\n",
        "\n",
        "# Download climate data\n",
        "!wget https://crudata.uea.ac.uk/cru/data/hrg/cru_ts_4.06/observation.v4.06/tmn.2204291209.clean.dtb -q\n",
        "!wget https://crudata.uea.ac.uk/cru/data/hrg/cru_ts_4.06/observation.v4.06/tmx.2204291209.clean.dtb -q"
      ],
      "metadata": {
        "id": "wZvKKLFMdCdq"
      },
      "execution_count": null,
      "outputs": []
    },
    {
      "cell_type": "code",
      "source": [
        "!unzip -q EN.ATM.GHGT.KT.CE?downloadformat=csv\n",
        "!unzip -q NV.IND.TOTL.ZS?downloadformat=csv\n",
        "!unzip -q NY.GDP.MKTP.CD?downloadformat=csv\n",
        "!unzip -q NV.AGR.TOTL.ZS?downloadformat=csv"
      ],
      "metadata": {
        "id": "A-5YNa7LgpQG"
      },
      "execution_count": null,
      "outputs": []
    },
    {
      "cell_type": "code",
      "source": [
        "co2_emissions_basename = \"API_EN.ATM.GHGT.KT.CE\"\n",
        "industry_percent_basename = \"API_NV.IND.TOTL.ZS\"\n",
        "agriculture_percent_basename = \"NV.AGR.TOTL.ZS\"\n",
        "gdp_basename = \"API_NY.GDP.MKTP.CD\"\n",
        "\n",
        "def check_worldbank_correct_file(filename, file_basename):\n",
        "    '''Checks that the file contains the actual data and not metadata/auxiliary information'''\n",
        "    return filename.find(\"Metadata\") == -1 and filename.find(file_basename) != -1\n",
        "\n",
        "# Finding the filenames for the worldbank data (the filenames sometimes change)\n",
        "work_dir = Path(\".\")\n",
        "for subfile in work_dir.iterdir():\n",
        "    if subfile.suffix != \".csv\":\n",
        "        continue\n",
        "    filename = subfile.name\n",
        "    if check_worldbank_correct_file(filename, co2_emissions_basename):\n",
        "        co2_emissions_filename = filename\n",
        "    elif check_worldbank_correct_file(filename, industry_percent_basename):\n",
        "        industry_percent_filename = filename\n",
        "    elif check_worldbank_correct_file(filename, gdp_basename):\n",
        "        gdp_filename = filename\n",
        "    elif check_worldbank_correct_file(filename, agriculture_percent_basename):\n",
        "        agriculture_percent_filename = filename"
      ],
      "metadata": {
        "id": "BKzqBDdhCuQt"
      },
      "execution_count": null,
      "outputs": []
    },
    {
      "cell_type": "markdown",
      "source": [
        "The `worldbank` data comes in a form of simple csv files with each file corresponding to one dataset. Each table contains columns containing information about the country and yearly measurements."
      ],
      "metadata": {
        "id": "dgE0TdHCtp6G"
      }
    },
    {
      "cell_type": "code",
      "source": [
        "# Loading the worldbank data\n",
        "co2_emissions = pd.read_csv(co2_emissions_filename, skiprows=4)\n",
        "industry_percent = pd.read_csv(industry_percent_filename, skiprows=4)\n",
        "agriculture_percent = pd.read_csv(agriculture_percent_filename, skiprows=4)\n",
        "gdp = pd.read_csv(gdp_filename, skiprows=4)"
      ],
      "metadata": {
        "id": "Ttza9lPfgyky"
      },
      "execution_count": null,
      "outputs": []
    },
    {
      "cell_type": "markdown",
      "source": [
        "All the tables from `worldbank` contain 266 rows and 67 columns. The tables contain information about: CO$_2$ emissions, industry (% of GDP), agriculture+forestry+fishing (% of GDP) and GDP (in current USD).\n",
        "\n",
        "The last column is erroneously read even though it is empty (probably due to a hanging comma). The other columns are: `Country Name`, `Country Code`, `Indicator Name`, `Indicator Code` and a column for each year between 1960 and 2021."
      ],
      "metadata": {
        "id": "fFRsM9O7Ls_a"
      }
    },
    {
      "cell_type": "code",
      "source": [
        "# Dropping the last erroneous column\n",
        "co2_emissions.drop(co2_emissions.columns[-1], axis=1, inplace=True)\n",
        "industry_percent.drop(industry_percent.columns[-1], axis=1, inplace=True)\n",
        "agriculture_percent.drop(agriculture_percent.columns[-1], axis=1, inplace=True)\n",
        "gdp.drop(gdp.columns[-1], axis=1, inplace=True)"
      ],
      "metadata": {
        "id": "7-_RMqgtMPmk"
      },
      "execution_count": null,
      "outputs": []
    },
    {
      "cell_type": "markdown",
      "source": [
        "The `crudata` is a collection of temperatures from various climate stations. The data is stored in a special text format. The data contains: the name of the station, possibly the name of the country and temperatures for each year-month in the observed time frame. They are about ~5960 staions and the years range from 1855 to 2021 (the actual count is different for each station and type of measurement).\n",
        "\n",
        "The data parsed into DataFrames contains the following columns: `pk` (combination of attributes to uniquely identify a station), `station`, `country`, `year`, `month` and `temp`. `min_temps` table has 5613912 rows spanning 5861 stations in 117 countries (though, some of those 'countries' are actually just regions/subregions). `max_temps` table has 5605884 rows spanning 5848 stations in 116 countries."
      ],
      "metadata": {
        "id": "5khwwAq0VRUY"
      }
    },
    {
      "cell_type": "code",
      "source": [
        "# The format of crudata can be read here:\n",
        "# https://crudata.uea.ac.uk/cru/data/hrg/cru_ts_4.06/observation.v4.06/Format_of_CRU_TS_Observation_files.txt\n",
        "\n",
        "def read_crudata_section(fd):\n",
        "    '''\n",
        "    Reads one section of a crudata section, which all the data collected from one station\n",
        "    '''\n",
        "    line = fd.readline()\n",
        "    pk = None\n",
        "    station = \"\"\n",
        "    country = \"\"\n",
        "    data = []\n",
        "    if line:\n",
        "        # Parsing the header line (it has constant formatting)\n",
        "        wmo = int(line[:7])\n",
        "        lat = float(line[8:13]) / 100.0\n",
        "        lon = float(line[14:20]) / 100.0\n",
        "        station = line[26:47].strip()\n",
        "        country = line[47:61].strip()\n",
        "        start_year = int(line[61:66])\n",
        "        end_year = int(line[66:])\n",
        "        pk = (wmo, lat, lon, station, start_year, end_year)\n",
        "\n",
        "        # Skipping a normal line\n",
        "        fd.readline()\n",
        "\n",
        "        # Parsing monthly temps for each year\n",
        "        for year in range(start_year, end_year + 1):\n",
        "            temps = []\n",
        "            year_data = fd.readline()\n",
        "            month = 1\n",
        "            for start in range(4, len(year_data) - 1, 5):\n",
        "                temp = year_data[start:start+5]\n",
        "                if temp == \"-9999\":\n",
        "                    temp = None\n",
        "                else:\n",
        "                    temp = float(temp) / 10.0\n",
        "                data.append((year, month, temp))\n",
        "                month += 1\n",
        "        \n",
        "        if not country:\n",
        "            country = \"N/A\"\n",
        "        if not station:\n",
        "            station = \"N/A\"\n",
        "    return pk, station, country, data\n",
        "\n",
        "\n",
        "def read_crudata_file(filename):\n",
        "    '''Read a crudata file and compiles it into a DataFrame'''\n",
        "    df_dict = {}\n",
        "    i = 0\n",
        "    with open(filename, \"r\") as f:\n",
        "        pk, station, country, data = read_crudata_section(f)\n",
        "        while station:\n",
        "            if station == \"N/A\":\n",
        "                station = None\n",
        "            if country == \"N/A\":\n",
        "                country = None\n",
        "            for (year, month, temp) in data:\n",
        "                df_dict[i] = (pk, station, country, year, month, temp)\n",
        "                i += 1\n",
        "            pk, station, country, data = read_crudata_section(f)\n",
        "    return pd.DataFrame.from_dict(df_dict, orient=\"index\", columns=[\"pk\", \"station\", \"country\", \"year\", \"month\", \"temp\"])"
      ],
      "metadata": {
        "id": "WQtSvCs3ivRM"
      },
      "execution_count": null,
      "outputs": []
    },
    {
      "cell_type": "code",
      "source": [
        "# Loading the temperature data\n",
        "min_temps = read_crudata_file(\"tmn.2204291209.clean.dtb\")\n",
        "max_temps = read_crudata_file(\"tmx.2204291209.clean.dtb\")"
      ],
      "metadata": {
        "id": "E2Yl0XWpS-cD"
      },
      "execution_count": null,
      "outputs": []
    },
    {
      "cell_type": "markdown",
      "source": [
        "Out of these data we are going to choose only a few countries in order to simplify modelling. The countries chosen should either have various sizes of industry in order to compare the accuracy of the models. Also, they shouldn't be too close geographically in order to check later if the pollution in one place can be predictive of the situation in a more distant region.\n",
        "\n",
        "First, we are going to look at the list of countries with the most amount of observations and pick some that can be interesting."
      ],
      "metadata": {
        "id": "1gVEVDDZgbWw"
      }
    },
    {
      "cell_type": "code",
      "source": [
        "max_temps.groupby([\"country\"]).size().sort_values(ascending=False).head(30)"
      ],
      "metadata": {
        "colab": {
          "base_uri": "https://localhost:8080/"
        },
        "id": "i-HnlN7xeFtt",
        "outputId": "95ba3781-de5e-4f1b-9e73-367ce668a04b"
      },
      "execution_count": null,
      "outputs": [
        {
          "output_type": "execute_result",
          "data": {
            "text/plain": [
              "country\n",
              "USA              1434996\n",
              "CANADA            834960\n",
              "CHINA             450960\n",
              "AUSTRALIA         311292\n",
              "JAPAN             100464\n",
              "BRAZIL             78840\n",
              "Canada             72612\n",
              "TURKEY             67416\n",
              "SOUTH AFRICA       63408\n",
              "RUSSIA (ASIA)      42924\n",
              "UK                 34284\n",
              "NEW ZEALAND        31296\n",
              "ICELAND            30708\n",
              "RUSSIA (EUR)       25272\n",
              "THAILAND           24444\n",
              "GERMANY            14460\n",
              "USA (Alaska )      13044\n",
              "KAZAKHSTAN         11556\n",
              "RUSSIAN FEDER      11208\n",
              "IRAN               10644\n",
              "SWEDEN             10560\n",
              "ITALY               9828\n",
              "ZAMBIA              8352\n",
              "UNITED STATES       7776\n",
              "FRANCE              7752\n",
              "RPB KOREA (S)       7668\n",
              "UK & NI             7620\n",
              "CHILE               6984\n",
              "ARGENTINA           6828\n",
              "NIGERIA             6804\n",
              "dtype: int64"
            ]
          },
          "metadata": {},
          "execution_count": 10
        }
      ]
    },
    {
      "cell_type": "code",
      "source": [
        "chosen_countries = [\"USA\", \"CHINA\", \"AUSTRALIA\", \"SOUTH AFRICA\", \"UK\", \"ICELAND\", \"ARGENTINA\"]"
      ],
      "metadata": {
        "id": "e9KvLz-OhJFc"
      },
      "execution_count": null,
      "outputs": []
    },
    {
      "cell_type": "markdown",
      "source": [
        "Now, out of these countries we need to choose a station from which we are going to take the observations. We are going to choose the one with the most observations in `max_temps` and which is present in both tables.\n",
        "\n",
        "P.S. In this case we got lucky and they are present, but in the future it might no longer be the case and additional processing might need to be added."
      ],
      "metadata": {
        "id": "WsP6nhdshar8"
      }
    },
    {
      "cell_type": "code",
      "source": [
        "max_temps_in_countries = max_temps[max_temps.country.isin(chosen_countries)]\n",
        "min_temps_in_countries = min_temps[min_temps.country.isin(chosen_countries)]\n",
        "obs_count = max_temps_in_countries.groupby([\"country\", \"pk\"]).size().reset_index()\n",
        "max_obs_indices = obs_count.groupby(\"country\")[0].idxmax().values.reshape(-1)\n",
        "max_obs = obs_count.iloc[max_obs_indices]\n",
        "max_temps_obs = max_temps_in_countries[max_temps_in_countries.pk.isin(max_obs.pk)]\n",
        "min_temps_obs = min_temps_in_countries[min_temps_in_countries.pk.isin(max_obs.pk)]\n",
        "print(max_temps_obs.pk.unique(), '\\n', min_temps_obs.pk.unique())\n",
        "print(max_temps_obs.shape, min_temps_obs.shape)"
      ],
      "metadata": {
        "colab": {
          "base_uri": "https://localhost:8080/"
        },
        "id": "a3VFNhjHiBk9",
        "outputId": "3111f080-ff59-464f-ccc6-79ae7b6d2f62"
      },
      "execution_count": null,
      "outputs": [
        {
          "output_type": "stream",
          "name": "stdout",
          "text": [
            "[(-366410, 55.07, -3.6, 'DUMFRIES', 1949, 1995)\n",
            " (0, -34.34, 18.5, 'CAPE POINT WESTERN C', 1940, 2004)\n",
            " (406400, 63.8, -18.1, 'KIRKJUBAJARKLAUSTUR', 1931, 2013)\n",
            " (5836700, 31.17, 121.43, 'SHANGHAI/HONGQIAO', 1872, 2004)\n",
            " (7200467, 32.78, -79.93, 'CHARLESTON-CITY', 1871, 1996)\n",
            " (8758500, -34.58, -58.48, 'BUENOS AIRES OBSERVA', 1939, 2012)\n",
            " (9486800, -37.82, 144.97, 'MELBOURNE', 1855, 2021)] \n",
            " [(-366410, 55.07, -3.6, 'DUMFRIES', 1949, 1995)\n",
            " (0, -34.34, 18.5, 'CAPE POINT WESTERN C', 1940, 2004)\n",
            " (406400, 63.8, -18.1, 'KIRKJUBAJARKLAUSTUR', 1931, 2013)\n",
            " (5836700, 31.17, 121.43, 'SHANGHAI/HONGQIAO', 1872, 2004)\n",
            " (7200467, 32.78, -79.93, 'CHARLESTON-CITY', 1871, 1996)\n",
            " (8758500, -34.58, -58.48, 'BUENOS AIRES OBSERVA', 1939, 2012)\n",
            " (9486800, -37.82, 144.97, 'MELBOURNE', 1855, 2021)]\n",
            "(8340, 6) (8340, 6)\n"
          ]
        }
      ]
    },
    {
      "cell_type": "code",
      "source": [
        "max_temps = max_temps_obs.drop(\"pk\", axis=1)\n",
        "min_temps = min_temps_obs.drop(\"pk\", axis=1)"
      ],
      "metadata": {
        "id": "r5ra9LCf74-o"
      },
      "execution_count": null,
      "outputs": []
    },
    {
      "cell_type": "markdown",
      "source": [
        "Finally, let's select `worldbank` data only for the chosen countries."
      ],
      "metadata": {
        "id": "1vDuY-6HoNFQ"
      }
    },
    {
      "cell_type": "code",
      "source": [
        "chosen_countries_worldbank = [\"Argentina\", \"Australia\", \"China\", \"Iceland\", \"South Africa\", \"United Kingdom\", \"United States\"]\n",
        "co2_emissions = co2_emissions[co2_emissions[\"Country Name\"].isin(chosen_countries_worldbank)]\n",
        "industry_percent = industry_percent[industry_percent[\"Country Name\"].isin(chosen_countries_worldbank)]\n",
        "agriculture_percent = agriculture_percent[agriculture_percent[\"Country Name\"].isin(chosen_countries_worldbank)]\n",
        "gdp = gdp[gdp[\"Country Name\"].isin(chosen_countries_worldbank)]\n",
        "print(co2_emissions.shape)"
      ],
      "metadata": {
        "id": "ZwmqTeFHoVVj",
        "colab": {
          "base_uri": "https://localhost:8080/"
        },
        "outputId": "9d21933f-030c-40e7-995c-f7c9091adbe6"
      },
      "execution_count": null,
      "outputs": [
        {
          "output_type": "stream",
          "name": "stdout",
          "text": [
            "(7, 66)\n"
          ]
        }
      ]
    },
    {
      "cell_type": "markdown",
      "source": [
        "# EDA"
      ],
      "metadata": {
        "id": "ye7RtQfb6FgX"
      }
    },
    {
      "cell_type": "markdown",
      "source": [
        "## Countries' locations on the world map"
      ],
      "metadata": {
        "id": "DSKMXQX8rqXc"
      }
    },
    {
      "cell_type": "markdown",
      "source": [
        "First, let's take a look at the locations of the countries where the measurements were taken."
      ],
      "metadata": {
        "id": "qkECa3ddyWQb"
      }
    },
    {
      "cell_type": "code",
      "source": [
        "# Reference code from: https://geopy.readthedocs.io/en/stable/\n",
        "# NOTE: there is no error checking that the coordinates for each country were returned\n",
        "geolocator = Nominatim(user_agent=\"ml_sl_project\")\n",
        "location = geolocator.geocode(chosen_countries[0])\n",
        "latitudes = []\n",
        "longitudes = []\n",
        "for country in chosen_countries:\n",
        "    location = geolocator.geocode(country)\n",
        "    latitudes.append(location.latitude)\n",
        "    longitudes.append(location.longitude)"
      ],
      "metadata": {
        "id": "CuF2-zqapmDY"
      },
      "execution_count": null,
      "outputs": []
    },
    {
      "cell_type": "code",
      "source": [
        "# Reference code from: https://stackoverflow.com/a/70569419\n",
        "px.scatter_mapbox(\n",
        "    pd.DataFrame({\"Country\": chosen_countries, \"lat\": latitudes, \"lon\": longitudes}),\n",
        "    lat=\"lat\", lon=\"lon\",\n",
        "    hover_name=\"Country\"\n",
        ").update_layout(\n",
        "    mapbox={\n",
        "        \"style\": \"carto-positron\",\n",
        "        \"zoom\": 0.5\n",
        "    },\n",
        ")"
      ],
      "metadata": {
        "colab": {
          "base_uri": "https://localhost:8080/",
          "height": 542
        },
        "id": "MTu0UrwingtT",
        "outputId": "23898a9e-f6af-4fd4-9c11-68b978aaf5f4"
      },
      "execution_count": null,
      "outputs": [
        {
          "output_type": "display_data",
          "data": {
            "text/html": [
              "<html>\n",
              "<head><meta charset=\"utf-8\" /></head>\n",
              "<body>\n",
              "    <div>            <script src=\"https://cdnjs.cloudflare.com/ajax/libs/mathjax/2.7.5/MathJax.js?config=TeX-AMS-MML_SVG\"></script><script type=\"text/javascript\">if (window.MathJax) {MathJax.Hub.Config({SVG: {font: \"STIX-Web\"}});}</script>                <script type=\"text/javascript\">window.PlotlyConfig = {MathJaxConfig: 'local'};</script>\n",
              "        <script src=\"https://cdn.plot.ly/plotly-2.8.3.min.js\"></script>                <div id=\"4c0e7477-c893-4b15-8406-2c55dd24a9c3\" class=\"plotly-graph-div\" style=\"height:525px; width:100%;\"></div>            <script type=\"text/javascript\">                                    window.PLOTLYENV=window.PLOTLYENV || {};                                    if (document.getElementById(\"4c0e7477-c893-4b15-8406-2c55dd24a9c3\")) {                    Plotly.newPlot(                        \"4c0e7477-c893-4b15-8406-2c55dd24a9c3\",                        [{\"hovertemplate\":\"<b>%{hovertext}</b><br><br>lat=%{lat}<br>lon=%{lon}<extra></extra>\",\"hovertext\":[\"USA\",\"CHINA\",\"AUSTRALIA\",\"SOUTH AFRICA\",\"UK\",\"ICELAND\",\"ARGENTINA\"],\"lat\":[39.7837304,35.000074,-24.7761086,-28.8166236,54.7023545,64.9841821,-34.9964963],\"legendgroup\":\"\",\"lon\":[-100.445882,104.999927,134.755,24.991639,-3.2765753,-18.1059013,-64.9672817],\"marker\":{\"color\":\"#636efa\"},\"mode\":\"markers\",\"name\":\"\",\"showlegend\":false,\"subplot\":\"mapbox\",\"type\":\"scattermapbox\"}],                        {\"template\":{\"data\":{\"bar\":[{\"error_x\":{\"color\":\"#2a3f5f\"},\"error_y\":{\"color\":\"#2a3f5f\"},\"marker\":{\"line\":{\"color\":\"#E5ECF6\",\"width\":0.5},\"pattern\":{\"fillmode\":\"overlay\",\"size\":10,\"solidity\":0.2}},\"type\":\"bar\"}],\"barpolar\":[{\"marker\":{\"line\":{\"color\":\"#E5ECF6\",\"width\":0.5},\"pattern\":{\"fillmode\":\"overlay\",\"size\":10,\"solidity\":0.2}},\"type\":\"barpolar\"}],\"carpet\":[{\"aaxis\":{\"endlinecolor\":\"#2a3f5f\",\"gridcolor\":\"white\",\"linecolor\":\"white\",\"minorgridcolor\":\"white\",\"startlinecolor\":\"#2a3f5f\"},\"baxis\":{\"endlinecolor\":\"#2a3f5f\",\"gridcolor\":\"white\",\"linecolor\":\"white\",\"minorgridcolor\":\"white\",\"startlinecolor\":\"#2a3f5f\"},\"type\":\"carpet\"}],\"choropleth\":[{\"colorbar\":{\"outlinewidth\":0,\"ticks\":\"\"},\"type\":\"choropleth\"}],\"contour\":[{\"colorbar\":{\"outlinewidth\":0,\"ticks\":\"\"},\"colorscale\":[[0.0,\"#0d0887\"],[0.1111111111111111,\"#46039f\"],[0.2222222222222222,\"#7201a8\"],[0.3333333333333333,\"#9c179e\"],[0.4444444444444444,\"#bd3786\"],[0.5555555555555556,\"#d8576b\"],[0.6666666666666666,\"#ed7953\"],[0.7777777777777778,\"#fb9f3a\"],[0.8888888888888888,\"#fdca26\"],[1.0,\"#f0f921\"]],\"type\":\"contour\"}],\"contourcarpet\":[{\"colorbar\":{\"outlinewidth\":0,\"ticks\":\"\"},\"type\":\"contourcarpet\"}],\"heatmap\":[{\"colorbar\":{\"outlinewidth\":0,\"ticks\":\"\"},\"colorscale\":[[0.0,\"#0d0887\"],[0.1111111111111111,\"#46039f\"],[0.2222222222222222,\"#7201a8\"],[0.3333333333333333,\"#9c179e\"],[0.4444444444444444,\"#bd3786\"],[0.5555555555555556,\"#d8576b\"],[0.6666666666666666,\"#ed7953\"],[0.7777777777777778,\"#fb9f3a\"],[0.8888888888888888,\"#fdca26\"],[1.0,\"#f0f921\"]],\"type\":\"heatmap\"}],\"heatmapgl\":[{\"colorbar\":{\"outlinewidth\":0,\"ticks\":\"\"},\"colorscale\":[[0.0,\"#0d0887\"],[0.1111111111111111,\"#46039f\"],[0.2222222222222222,\"#7201a8\"],[0.3333333333333333,\"#9c179e\"],[0.4444444444444444,\"#bd3786\"],[0.5555555555555556,\"#d8576b\"],[0.6666666666666666,\"#ed7953\"],[0.7777777777777778,\"#fb9f3a\"],[0.8888888888888888,\"#fdca26\"],[1.0,\"#f0f921\"]],\"type\":\"heatmapgl\"}],\"histogram\":[{\"marker\":{\"pattern\":{\"fillmode\":\"overlay\",\"size\":10,\"solidity\":0.2}},\"type\":\"histogram\"}],\"histogram2d\":[{\"colorbar\":{\"outlinewidth\":0,\"ticks\":\"\"},\"colorscale\":[[0.0,\"#0d0887\"],[0.1111111111111111,\"#46039f\"],[0.2222222222222222,\"#7201a8\"],[0.3333333333333333,\"#9c179e\"],[0.4444444444444444,\"#bd3786\"],[0.5555555555555556,\"#d8576b\"],[0.6666666666666666,\"#ed7953\"],[0.7777777777777778,\"#fb9f3a\"],[0.8888888888888888,\"#fdca26\"],[1.0,\"#f0f921\"]],\"type\":\"histogram2d\"}],\"histogram2dcontour\":[{\"colorbar\":{\"outlinewidth\":0,\"ticks\":\"\"},\"colorscale\":[[0.0,\"#0d0887\"],[0.1111111111111111,\"#46039f\"],[0.2222222222222222,\"#7201a8\"],[0.3333333333333333,\"#9c179e\"],[0.4444444444444444,\"#bd3786\"],[0.5555555555555556,\"#d8576b\"],[0.6666666666666666,\"#ed7953\"],[0.7777777777777778,\"#fb9f3a\"],[0.8888888888888888,\"#fdca26\"],[1.0,\"#f0f921\"]],\"type\":\"histogram2dcontour\"}],\"mesh3d\":[{\"colorbar\":{\"outlinewidth\":0,\"ticks\":\"\"},\"type\":\"mesh3d\"}],\"parcoords\":[{\"line\":{\"colorbar\":{\"outlinewidth\":0,\"ticks\":\"\"}},\"type\":\"parcoords\"}],\"pie\":[{\"automargin\":true,\"type\":\"pie\"}],\"scatter\":[{\"marker\":{\"colorbar\":{\"outlinewidth\":0,\"ticks\":\"\"}},\"type\":\"scatter\"}],\"scatter3d\":[{\"line\":{\"colorbar\":{\"outlinewidth\":0,\"ticks\":\"\"}},\"marker\":{\"colorbar\":{\"outlinewidth\":0,\"ticks\":\"\"}},\"type\":\"scatter3d\"}],\"scattercarpet\":[{\"marker\":{\"colorbar\":{\"outlinewidth\":0,\"ticks\":\"\"}},\"type\":\"scattercarpet\"}],\"scattergeo\":[{\"marker\":{\"colorbar\":{\"outlinewidth\":0,\"ticks\":\"\"}},\"type\":\"scattergeo\"}],\"scattergl\":[{\"marker\":{\"colorbar\":{\"outlinewidth\":0,\"ticks\":\"\"}},\"type\":\"scattergl\"}],\"scattermapbox\":[{\"marker\":{\"colorbar\":{\"outlinewidth\":0,\"ticks\":\"\"}},\"type\":\"scattermapbox\"}],\"scatterpolar\":[{\"marker\":{\"colorbar\":{\"outlinewidth\":0,\"ticks\":\"\"}},\"type\":\"scatterpolar\"}],\"scatterpolargl\":[{\"marker\":{\"colorbar\":{\"outlinewidth\":0,\"ticks\":\"\"}},\"type\":\"scatterpolargl\"}],\"scatterternary\":[{\"marker\":{\"colorbar\":{\"outlinewidth\":0,\"ticks\":\"\"}},\"type\":\"scatterternary\"}],\"surface\":[{\"colorbar\":{\"outlinewidth\":0,\"ticks\":\"\"},\"colorscale\":[[0.0,\"#0d0887\"],[0.1111111111111111,\"#46039f\"],[0.2222222222222222,\"#7201a8\"],[0.3333333333333333,\"#9c179e\"],[0.4444444444444444,\"#bd3786\"],[0.5555555555555556,\"#d8576b\"],[0.6666666666666666,\"#ed7953\"],[0.7777777777777778,\"#fb9f3a\"],[0.8888888888888888,\"#fdca26\"],[1.0,\"#f0f921\"]],\"type\":\"surface\"}],\"table\":[{\"cells\":{\"fill\":{\"color\":\"#EBF0F8\"},\"line\":{\"color\":\"white\"}},\"header\":{\"fill\":{\"color\":\"#C8D4E3\"},\"line\":{\"color\":\"white\"}},\"type\":\"table\"}]},\"layout\":{\"annotationdefaults\":{\"arrowcolor\":\"#2a3f5f\",\"arrowhead\":0,\"arrowwidth\":1},\"autotypenumbers\":\"strict\",\"coloraxis\":{\"colorbar\":{\"outlinewidth\":0,\"ticks\":\"\"}},\"colorscale\":{\"diverging\":[[0,\"#8e0152\"],[0.1,\"#c51b7d\"],[0.2,\"#de77ae\"],[0.3,\"#f1b6da\"],[0.4,\"#fde0ef\"],[0.5,\"#f7f7f7\"],[0.6,\"#e6f5d0\"],[0.7,\"#b8e186\"],[0.8,\"#7fbc41\"],[0.9,\"#4d9221\"],[1,\"#276419\"]],\"sequential\":[[0.0,\"#0d0887\"],[0.1111111111111111,\"#46039f\"],[0.2222222222222222,\"#7201a8\"],[0.3333333333333333,\"#9c179e\"],[0.4444444444444444,\"#bd3786\"],[0.5555555555555556,\"#d8576b\"],[0.6666666666666666,\"#ed7953\"],[0.7777777777777778,\"#fb9f3a\"],[0.8888888888888888,\"#fdca26\"],[1.0,\"#f0f921\"]],\"sequentialminus\":[[0.0,\"#0d0887\"],[0.1111111111111111,\"#46039f\"],[0.2222222222222222,\"#7201a8\"],[0.3333333333333333,\"#9c179e\"],[0.4444444444444444,\"#bd3786\"],[0.5555555555555556,\"#d8576b\"],[0.6666666666666666,\"#ed7953\"],[0.7777777777777778,\"#fb9f3a\"],[0.8888888888888888,\"#fdca26\"],[1.0,\"#f0f921\"]]},\"colorway\":[\"#636efa\",\"#EF553B\",\"#00cc96\",\"#ab63fa\",\"#FFA15A\",\"#19d3f3\",\"#FF6692\",\"#B6E880\",\"#FF97FF\",\"#FECB52\"],\"font\":{\"color\":\"#2a3f5f\"},\"geo\":{\"bgcolor\":\"white\",\"lakecolor\":\"white\",\"landcolor\":\"#E5ECF6\",\"showlakes\":true,\"showland\":true,\"subunitcolor\":\"white\"},\"hoverlabel\":{\"align\":\"left\"},\"hovermode\":\"closest\",\"mapbox\":{\"style\":\"light\"},\"paper_bgcolor\":\"white\",\"plot_bgcolor\":\"#E5ECF6\",\"polar\":{\"angularaxis\":{\"gridcolor\":\"white\",\"linecolor\":\"white\",\"ticks\":\"\"},\"bgcolor\":\"#E5ECF6\",\"radialaxis\":{\"gridcolor\":\"white\",\"linecolor\":\"white\",\"ticks\":\"\"}},\"scene\":{\"xaxis\":{\"backgroundcolor\":\"#E5ECF6\",\"gridcolor\":\"white\",\"gridwidth\":2,\"linecolor\":\"white\",\"showbackground\":true,\"ticks\":\"\",\"zerolinecolor\":\"white\"},\"yaxis\":{\"backgroundcolor\":\"#E5ECF6\",\"gridcolor\":\"white\",\"gridwidth\":2,\"linecolor\":\"white\",\"showbackground\":true,\"ticks\":\"\",\"zerolinecolor\":\"white\"},\"zaxis\":{\"backgroundcolor\":\"#E5ECF6\",\"gridcolor\":\"white\",\"gridwidth\":2,\"linecolor\":\"white\",\"showbackground\":true,\"ticks\":\"\",\"zerolinecolor\":\"white\"}},\"shapedefaults\":{\"line\":{\"color\":\"#2a3f5f\"}},\"ternary\":{\"aaxis\":{\"gridcolor\":\"white\",\"linecolor\":\"white\",\"ticks\":\"\"},\"baxis\":{\"gridcolor\":\"white\",\"linecolor\":\"white\",\"ticks\":\"\"},\"bgcolor\":\"#E5ECF6\",\"caxis\":{\"gridcolor\":\"white\",\"linecolor\":\"white\",\"ticks\":\"\"}},\"title\":{\"x\":0.05},\"xaxis\":{\"automargin\":true,\"gridcolor\":\"white\",\"linecolor\":\"white\",\"ticks\":\"\",\"title\":{\"standoff\":15},\"zerolinecolor\":\"white\",\"zerolinewidth\":2},\"yaxis\":{\"automargin\":true,\"gridcolor\":\"white\",\"linecolor\":\"white\",\"ticks\":\"\",\"title\":{\"standoff\":15},\"zerolinecolor\":\"white\",\"zerolinewidth\":2}}},\"mapbox\":{\"domain\":{\"x\":[0.0,1.0],\"y\":[0.0,1.0]},\"center\":{\"lat\":15.125873214285718,\"lon\":11.13584652857143},\"zoom\":0.5,\"style\":\"carto-positron\"},\"legend\":{\"tracegroupgap\":0},\"margin\":{\"t\":60}},                        {\"responsive\": true}                    ).then(function(){\n",
              "                            \n",
              "var gd = document.getElementById('4c0e7477-c893-4b15-8406-2c55dd24a9c3');\n",
              "var x = new MutationObserver(function (mutations, observer) {{\n",
              "        var display = window.getComputedStyle(gd).display;\n",
              "        if (!display || display === 'none') {{\n",
              "            console.log([gd, 'removed!']);\n",
              "            Plotly.purge(gd);\n",
              "            observer.disconnect();\n",
              "        }}\n",
              "}});\n",
              "\n",
              "// Listen for the removal of the full notebook cells\n",
              "var notebookContainer = gd.closest('#notebook-container');\n",
              "if (notebookContainer) {{\n",
              "    x.observe(notebookContainer, {childList: true});\n",
              "}}\n",
              "\n",
              "// Listen for the clearing of the current output cell\n",
              "var outputEl = gd.closest('.output');\n",
              "if (outputEl) {{\n",
              "    x.observe(outputEl, {childList: true});\n",
              "}}\n",
              "\n",
              "                        })                };                            </script>        </div>\n",
              "</body>\n",
              "</html>"
            ]
          },
          "metadata": {}
        }
      ]
    },
    {
      "cell_type": "markdown",
      "source": [
        "From this map it can be seen that countries are chosen around the world and not concentrated in one region. This might allow for better predictions in the case where the proximity has an impact."
      ],
      "metadata": {
        "id": "OoJE1AZWkKC0"
      }
    },
    {
      "cell_type": "markdown",
      "source": [
        "## Data windows"
      ],
      "metadata": {
        "id": "yh5vcZ0JrwEs"
      }
    },
    {
      "cell_type": "markdown",
      "source": [
        "Now, we should check the data availability depending on the date. Since the measurements are time dependent with different time spans (months vs. years), it's important to make sure that we are able to correctly gather enough data for model training. For this we are going to generate a binary mask with values corresponding to if all the data for this table for the particular year is available."
      ],
      "metadata": {
        "id": "8MEprrpHkpZQ"
      }
    },
    {
      "cell_type": "code",
      "source": [
        "min_year_temp = min(max_temps.year.min(), min_temps.year.min())\n",
        "max_year_temp = max(max_temps.year.max(), min_temps.year.max())\n",
        "min_year_wb = 1960\n",
        "max_year_wb = 2021\n",
        "min_year = min(min_year_temp, min_year_wb)\n",
        "max_year = max(max_year_temp, max_year_wb)\n",
        "min_year, max_year"
      ],
      "metadata": {
        "colab": {
          "base_uri": "https://localhost:8080/"
        },
        "id": "Djw4vnRtxxXW",
        "outputId": "daab4438-9441-4a1d-da65-b24ea9dec281"
      },
      "execution_count": null,
      "outputs": [
        {
          "output_type": "execute_result",
          "data": {
            "text/plain": [
              "(1855, 2021)"
            ]
          },
          "metadata": {},
          "execution_count": 17
        }
      ]
    },
    {
      "cell_type": "code",
      "source": [
        "def show_data_mask():\n",
        "    '''Generates and shows a binary validness mask for all data.'''\n",
        "    result = np.full((6, max_year - min_year + 1), False)\n",
        "\n",
        "    is_na = np.full((2, max_year_temp - min_year_temp + 1), False)\n",
        "    for i, df in enumerate((min_temps, max_temps)):\n",
        "        for j, row in df.iterrows():\n",
        "            is_na[i, row.year - min_year_temp] |= row.isna().temp\n",
        "\n",
        "    result[4:] = is_na\n",
        "\n",
        "    for i, df in enumerate((co2_emissions, industry_percent, agriculture_percent, gdp)):\n",
        "        col_isna = df.isna().any(axis=0)\n",
        "        result[i, min_year_wb - min_year:max_year_wb - min_year + 1] = col_isna.iloc[4:]\n",
        "        result[i, :min_year_wb - min_year] = True\n",
        "        result[i, max_year_wb - min_year + 1:] = True\n",
        "\n",
        "    plt.imshow(result, aspect='auto', cmap=plt.cm.gray, interpolation='nearest', extent=[min_year,max_year,5,0])\n",
        "    plt.show()\n",
        "\n",
        "show_data_mask()"
      ],
      "metadata": {
        "colab": {
          "base_uri": "https://localhost:8080/",
          "height": 269
        },
        "id": "xlJMTfnp8tmn",
        "outputId": "4f9f22c5-3729-46ba-d878-29c36d5a88d7"
      },
      "execution_count": null,
      "outputs": [
        {
          "output_type": "display_data",
          "data": {
            "text/plain": [
              "<Figure size 432x288 with 1 Axes>"
            ],
            "image/png": "[encoded data removed]"
          },
          "metadata": {
            "needs_background": "light"
          }
        }
      ]
    },
    {
      "cell_type": "markdown",
      "source": [
        "For the temperature data we have a lot of years with missing data. This is problematic since it means we can only choose a small period for data observations. Let's look at available temperature data for each country."
      ],
      "metadata": {
        "id": "F_WbTHSX1nvD"
      }
    },
    {
      "cell_type": "code",
      "source": [
        "def show_temp_data_mask(df):\n",
        "    '''Generates and shows a binary validness mask for temperature data.'''\n",
        "    is_not_na = np.full((len(chosen_countries), max_year_temp - min_year_temp + 1), False)\n",
        "    for i, country in enumerate(chosen_countries):\n",
        "        for _, row in df[df.country == country].iterrows():\n",
        "            is_not_na[i, row.year - min_year_temp] |= (not row.isna().temp)\n",
        "    is_na = np.logical_not(is_not_na)\n",
        "    ax = plt.figure().add_subplot(111)\n",
        "    ax.imshow(is_na, aspect='auto', cmap=plt.cm.gray, interpolation='nearest', extent=[min_year,max_year,len(chosen_countries),0])\n",
        "    ax.set_yticklabels(chosen_countries)\n",
        "    plt.show()"
      ],
      "metadata": {
        "id": "j2ZBYZWN6DRr"
      },
      "execution_count": null,
      "outputs": []
    },
    {
      "cell_type": "code",
      "source": [
        "# Mask for min temp data\n",
        "show_temp_data_mask(min_temps)"
      ],
      "metadata": {
        "colab": {
          "base_uri": "https://localhost:8080/",
          "height": 269
        },
        "id": "qCGT-HUo6T7s",
        "outputId": "8fd4b93f-c144-44d9-80e1-1ffae4c21f2d"
      },
      "execution_count": null,
      "outputs": [
        {
          "output_type": "display_data",
          "data": {
            "text/plain": [
              "<Figure size 432x288 with 1 Axes>"
            ],
            "image/png": "[encoded data removed]"
          },
          "metadata": {
            "needs_background": "light"
          }
        }
      ]
    },
    {
      "cell_type": "code",
      "source": [
        "# Mask for max temp data\n",
        "show_temp_data_mask(max_temps)"
      ],
      "metadata": {
        "colab": {
          "base_uri": "https://localhost:8080/",
          "height": 269
        },
        "id": "o2PBYiRc6Bb1",
        "outputId": "3e37a510-67f7-4e54-a976-684678b3d9e3"
      },
      "execution_count": null,
      "outputs": [
        {
          "output_type": "display_data",
          "data": {
            "text/plain": [
              "<Figure size 432x288 with 1 Axes>"
            ],
            "image/png": "[encoded data removed]"
          },
          "metadata": {
            "needs_background": "light"
          }
        }
      ]
    },
    {
      "cell_type": "markdown",
      "source": [
        "From this we can see that not many countries' temperature data have sufficient overlap with other data (it also shows that there was incorrect assumption in the previous code since we didn't factor that the data might not be in the table at all and not just NaN).\n",
        "\n",
        "There are several approaches we can take now. One of them is choose the countries which have enough overlap and leave the others out. The other one is to choose the earlier period (around 1995), where the data seems to be the most available.\n",
        "\n",
        "Since we want to predict the temperature data and the other data is available enough, the simplest approach, which still allows to accomplish that goal and use the most recent data, is to choose only one country to use for temperature data (in this case, Australia). The next sections are going to proceed using that method."
      ],
      "metadata": {
        "id": "oGqtvUJn7TzA"
      }
    },
    {
      "cell_type": "code",
      "source": [
        "min_temps_aus = min_temps[min_temps.country == \"AUSTRALIA\"]\n",
        "max_temps_aus = max_temps[max_temps.country == \"AUSTRALIA\"]"
      ],
      "metadata": {
        "id": "h1TS2jKcANdR"
      },
      "execution_count": null,
      "outputs": []
    },
    {
      "cell_type": "markdown",
      "source": [
        "Now, let's find the most recent range of years where all the data is available."
      ],
      "metadata": {
        "id": "IICJ4-ag1D8z"
      }
    },
    {
      "cell_type": "code",
      "source": [
        "minimal_max_year = 2100\n",
        "maximal_min_year = 0\n",
        "for i, df in enumerate((co2_emissions, industry_percent, agriculture_percent, gdp)):\n",
        "        col_isna = df.isna().any(axis=0).iloc[4:]\n",
        "        for year in range(min_year_wb, max_year_wb + 1):\n",
        "            if not col_isna.loc[str(year)]:\n",
        "                maximal_min_year = max(maximal_min_year, year)\n",
        "                break\n",
        "        for year in reversed(range(min_year_wb, max_year_wb + 1)):\n",
        "            if not col_isna.loc[str(year)]:\n",
        "                minimal_max_year = min(minimal_max_year, year)\n",
        "                break\n",
        "\n",
        "# The first and last years in the range might have missing data\n",
        "maximal_min_year = max(maximal_min_year, min_temps_aus[(min_temps_aus.temp.notna())].year.min()) + 1\n",
        "minimal_max_year = min(minimal_max_year, min_temps_aus[(min_temps_aus.temp.notna())].year.max()) - 1\n",
        "print(maximal_min_year, minimal_max_year)"
      ],
      "metadata": {
        "colab": {
          "base_uri": "https://localhost:8080/"
        },
        "id": "XWkvTYqYyfm7",
        "outputId": "600a6c99-7e3f-4aea-f6eb-5f95ff39c628"
      },
      "execution_count": null,
      "outputs": [
        {
          "output_type": "stream",
          "name": "stdout",
          "text": [
            "1998 2014\n"
          ]
        }
      ]
    },
    {
      "cell_type": "markdown",
      "source": [
        "The resulting range is from 1998 to 2014."
      ],
      "metadata": {
        "id": "QhVPflow1OjY"
      }
    },
    {
      "cell_type": "code",
      "source": [
        "min_temps_mask = (min_temps.year >= maximal_min_year) & (min_temps.year <= minimal_max_year)\n",
        "min_temps_aus[min_temps_mask]"
      ],
      "metadata": {
        "colab": {
          "base_uri": "https://localhost:8080/",
          "height": 493
        },
        "id": "EFRQnyT11XPn",
        "outputId": "fcc59e34-26e0-4df2-b501-1ea61b4c164b"
      },
      "execution_count": null,
      "outputs": [
        {
          "output_type": "stream",
          "name": "stderr",
          "text": [
            "<ipython-input-24-53f5b0cdb46b>:2: UserWarning:\n",
            "\n",
            "Boolean Series key will be reindexed to match DataFrame index.\n",
            "\n"
          ]
        },
        {
          "output_type": "execute_result",
          "data": {
            "text/plain": [
              "           station    country  year  month  temp\n",
              "4831584  MELBOURNE  AUSTRALIA  1998      1  16.3\n",
              "4831585  MELBOURNE  AUSTRALIA  1998      2  15.4\n",
              "4831586  MELBOURNE  AUSTRALIA  1998      3  14.4\n",
              "4831587  MELBOURNE  AUSTRALIA  1998      4  11.0\n",
              "4831588  MELBOURNE  AUSTRALIA  1998      5   9.7\n",
              "...            ...        ...   ...    ...   ...\n",
              "4831783  MELBOURNE  AUSTRALIA  2014      8   7.9\n",
              "4831784  MELBOURNE  AUSTRALIA  2014      9  10.0\n",
              "4831785  MELBOURNE  AUSTRALIA  2014     10  11.4\n",
              "4831786  MELBOURNE  AUSTRALIA  2014     11  13.2\n",
              "4831787  MELBOURNE  AUSTRALIA  2014     12  15.2\n",
              "\n",
              "[204 rows x 5 columns]"
            ],
            "text/html": [
              "\n",
              "  <div id=\"df-fd0d33cd-a94b-4829-9ec3-e48cd055028f\">\n",
              "    <div class=\"colab-df-container\">\n",
              "      <div>\n",
              "<style scoped>\n",
              "    .dataframe tbody tr th:only-of-type {\n",
              "        vertical-align: middle;\n",
              "    }\n",
              "\n",
              "    .dataframe tbody tr th {\n",
              "        vertical-align: top;\n",
              "    }\n",
              "\n",
              "    .dataframe thead th {\n",
              "        text-align: right;\n",
              "    }\n",
              "</style>\n",
              "<table border=\"1\" class=\"dataframe\">\n",
              "  <thead>\n",
              "    <tr style=\"text-align: right;\">\n",
              "      <th></th>\n",
              "      <th>station</th>\n",
              "      <th>country</th>\n",
              "      <th>year</th>\n",
              "      <th>month</th>\n",
              "      <th>temp</th>\n",
              "    </tr>\n",
              "  </thead>\n",
              "  <tbody>\n",
              "    <tr>\n",
              "      <th>4831584</th>\n",
              "      <td>MELBOURNE</td>\n",
              "      <td>AUSTRALIA</td>\n",
              "      <td>1998</td>\n",
              "      <td>1</td>\n",
              "      <td>16.3</td>\n",
              "    </tr>\n",
              "    <tr>\n",
              "      <th>4831585</th>\n",
              "      <td>MELBOURNE</td>\n",
              "      <td>AUSTRALIA</td>\n",
              "      <td>1998</td>\n",
              "      <td>2</td>\n",
              "      <td>15.4</td>\n",
              "    </tr>\n",
              "    <tr>\n",
              "      <th>4831586</th>\n",
              "      <td>MELBOURNE</td>\n",
              "      <td>AUSTRALIA</td>\n",
              "      <td>1998</td>\n",
              "      <td>3</td>\n",
              "      <td>14.4</td>\n",
              "    </tr>\n",
              "    <tr>\n",
              "      <th>4831587</th>\n",
              "      <td>MELBOURNE</td>\n",
              "      <td>AUSTRALIA</td>\n",
              "      <td>1998</td>\n",
              "      <td>4</td>\n",
              "      <td>11.0</td>\n",
              "    </tr>\n",
              "    <tr>\n",
              "      <th>4831588</th>\n",
              "      <td>MELBOURNE</td>\n",
              "      <td>AUSTRALIA</td>\n",
              "      <td>1998</td>\n",
              "      <td>5</td>\n",
              "      <td>9.7</td>\n",
              "    </tr>\n",
              "    <tr>\n",
              "      <th>...</th>\n",
              "      <td>...</td>\n",
              "      <td>...</td>\n",
              "      <td>...</td>\n",
              "      <td>...</td>\n",
              "      <td>...</td>\n",
              "    </tr>\n",
              "    <tr>\n",
              "      <th>4831783</th>\n",
              "      <td>MELBOURNE</td>\n",
              "      <td>AUSTRALIA</td>\n",
              "      <td>2014</td>\n",
              "      <td>8</td>\n",
              "      <td>7.9</td>\n",
              "    </tr>\n",
              "    <tr>\n",
              "      <th>4831784</th>\n",
              "      <td>MELBOURNE</td>\n",
              "      <td>AUSTRALIA</td>\n",
              "      <td>2014</td>\n",
              "      <td>9</td>\n",
              "      <td>10.0</td>\n",
              "    </tr>\n",
              "    <tr>\n",
              "      <th>4831785</th>\n",
              "      <td>MELBOURNE</td>\n",
              "      <td>AUSTRALIA</td>\n",
              "      <td>2014</td>\n",
              "      <td>10</td>\n",
              "      <td>11.4</td>\n",
              "    </tr>\n",
              "    <tr>\n",
              "      <th>4831786</th>\n",
              "      <td>MELBOURNE</td>\n",
              "      <td>AUSTRALIA</td>\n",
              "      <td>2014</td>\n",
              "      <td>11</td>\n",
              "      <td>13.2</td>\n",
              "    </tr>\n",
              "    <tr>\n",
              "      <th>4831787</th>\n",
              "      <td>MELBOURNE</td>\n",
              "      <td>AUSTRALIA</td>\n",
              "      <td>2014</td>\n",
              "      <td>12</td>\n",
              "      <td>15.2</td>\n",
              "    </tr>\n",
              "  </tbody>\n",
              "</table>\n",
              "<p>204 rows × 5 columns</p>\n",
              "</div>\n",
              "      <button class=\"colab-df-convert\" onclick=\"convertToInteractive('df-fd0d33cd-a94b-4829-9ec3-e48cd055028f')\"\n",
              "              title=\"Convert this dataframe to an interactive table.\"\n",
              "              style=\"display:none;\">\n",
              "        \n",
              "  <svg xmlns=\"http://www.w3.org/2000/svg\" height=\"24px\"viewBox=\"0 0 24 24\"\n",
              "       width=\"24px\">\n",
              "    <path d=\"M0 0h24v24H0V0z\" fill=\"none\"/>\n",
              "    <path d=\"M18.56 5.44l.94 2.06.94-2.06 2.06-.94-2.06-.94-.94-2.06-.94 2.06-2.06.94zm-11 1L8.5 8.5l.94-2.06 2.06-.94-2.06-.94L8.5 2.5l-.94 2.06-2.06.94zm10 10l.94 2.06.94-2.06 2.06-.94-2.06-.94-.94-2.06-.94 2.06-2.06.94z\"/><path d=\"M17.41 7.96l-1.37-1.37c-.4-.4-.92-.59-1.43-.59-.52 0-1.04.2-1.43.59L10.3 9.45l-7.72 7.72c-.78.78-.78 2.05 0 2.83L4 21.41c.39.39.9.59 1.41.59.51 0 1.02-.2 1.41-.59l7.78-7.78 2.81-2.81c.8-.78.8-2.07 0-2.86zM5.41 20L4 18.59l7.72-7.72 1.47 1.35L5.41 20z\"/>\n",
              "  </svg>\n",
              "      </button>\n",
              "      \n",
              "  <style>\n",
              "    .colab-df-container {\n",
              "      display:flex;\n",
              "      flex-wrap:wrap;\n",
              "      gap: 12px;\n",
              "    }\n",
              "\n",
              "    .colab-df-convert {\n",
              "      background-color: #E8F0FE;\n",
              "      border: none;\n",
              "      border-radius: 50%;\n",
              "      cursor: pointer;\n",
              "      display: none;\n",
              "      fill: #1967D2;\n",
              "      height: 32px;\n",
              "      padding: 0 0 0 0;\n",
              "      width: 32px;\n",
              "    }\n",
              "\n",
              "    .colab-df-convert:hover {\n",
              "      background-color: #E2EBFA;\n",
              "      box-shadow: 0px 1px 2px rgba(60, 64, 67, 0.3), 0px 1px 3px 1px rgba(60, 64, 67, 0.15);\n",
              "      fill: #174EA6;\n",
              "    }\n",
              "\n",
              "    [theme=dark] .colab-df-convert {\n",
              "      background-color: #3B4455;\n",
              "      fill: #D2E3FC;\n",
              "    }\n",
              "\n",
              "    [theme=dark] .colab-df-convert:hover {\n",
              "      background-color: #434B5C;\n",
              "      box-shadow: 0px 1px 3px 1px rgba(0, 0, 0, 0.15);\n",
              "      filter: drop-shadow(0px 1px 2px rgba(0, 0, 0, 0.3));\n",
              "      fill: #FFFFFF;\n",
              "    }\n",
              "  </style>\n",
              "\n",
              "      <script>\n",
              "        const buttonEl =\n",
              "          document.querySelector('#df-fd0d33cd-a94b-4829-9ec3-e48cd055028f button.colab-df-convert');\n",
              "        buttonEl.style.display =\n",
              "          google.colab.kernel.accessAllowed ? 'block' : 'none';\n",
              "\n",
              "        async function convertToInteractive(key) {\n",
              "          const element = document.querySelector('#df-fd0d33cd-a94b-4829-9ec3-e48cd055028f');\n",
              "          const dataTable =\n",
              "            await google.colab.kernel.invokeFunction('convertToInteractive',\n",
              "                                                     [key], {});\n",
              "          if (!dataTable) return;\n",
              "\n",
              "          const docLinkHtml = 'Like what you see? Visit the ' +\n",
              "            '<a target=\"_blank\" href=https://colab.research.google.com/notebooks/data_table.ipynb>data table notebook</a>'\n",
              "            + ' to learn more about interactive tables.';\n",
              "          element.innerHTML = '';\n",
              "          dataTable['output_type'] = 'display_data';\n",
              "          await google.colab.output.renderOutput(dataTable, element);\n",
              "          const docLink = document.createElement('div');\n",
              "          docLink.innerHTML = docLinkHtml;\n",
              "          element.appendChild(docLink);\n",
              "        }\n",
              "      </script>\n",
              "    </div>\n",
              "  </div>\n",
              "  "
            ]
          },
          "metadata": {},
          "execution_count": 24
        }
      ]
    },
    {
      "cell_type": "markdown",
      "source": [
        "## Temperatures"
      ],
      "metadata": {
        "id": "2P_DzTStuGGX"
      }
    },
    {
      "cell_type": "markdown",
      "source": [
        "Since we are going to be predicting temperatures, let's see if it is possible to see any trends or abnormalities in the data."
      ],
      "metadata": {
        "id": "JTgKhMLQrZ2y"
      }
    },
    {
      "cell_type": "code",
      "source": [
        "plt.figure(figsize=(9,6))\n",
        "plt.plot(max_temps_aus[(max_temps_aus.year >= 2000) & (max_temps_aus.year <= 2015)].values[:, 4], label=\"max temperature\")\n",
        "plt.plot(min_temps_aus[(min_temps_aus.year >= 2000) & (min_temps_aus.year <= 2015)].values[:, 4], label=\"min temperature\")\n",
        "plt.title(\"Monthly Temperatures\")\n",
        "plt.legend()\n",
        "plt.show()"
      ],
      "metadata": {
        "colab": {
          "base_uri": "https://localhost:8080/",
          "height": 390
        },
        "id": "rA5ZsKsPri9-",
        "outputId": "996987e0-e6f2-4bc7-9933-4d2e9c706e6c"
      },
      "execution_count": null,
      "outputs": [
        {
          "output_type": "display_data",
          "data": {
            "text/plain": [
              "<Figure size 648x432 with 1 Axes>"
            ],
            "image/png": "[encoded data removed]"
          },
          "metadata": {
            "needs_background": "light"
          }
        }
      ]
    },
    {
      "cell_type": "markdown",
      "source": [
        "As expected, the temperatures are periodic with the period corresponding to a year. There does not appear to be any problems or outliers in the data. However, from this plot it is not apparent if there is any general trend. It's a good idea to look at the larger time span to see if the trend is more visible. Since showing larger ranges with monthly measurements is going to be noisy, we are going to aggregate temperatures by year."
      ],
      "metadata": {
        "id": "Z8XFEwV9ruAS"
      }
    },
    {
      "cell_type": "code",
      "source": [
        "max_temps_aus_agg = max_temps_aus.groupby([\"station\", \"country\", \"year\"]).agg({\"temp\": [np.max, np.mean]}).reset_index()\n",
        "max_temps_aus_agg.columns = ['station', 'country', 'year', 'temp_ext', 'temp_mean']\n",
        "min_temps_aus_agg = min_temps_aus.groupby([\"station\", \"country\", \"year\"]).agg({\"temp\": [np.min, np.mean]}).reset_index()\n",
        "min_temps_aus_agg.columns = ['station', 'country', 'year', 'temp_ext', 'temp_mean']\n",
        "\n",
        "plt.figure(figsize=(9,6))\n",
        "plt.plot(\n",
        "    max_temps_aus_agg.year.values[1:-7],\n",
        "    max_temps_aus_agg.temp_ext.values[1:-7],\n",
        "    label=\"max temperature\"\n",
        ")\n",
        "plt.plot(\n",
        "    max_temps_aus_agg.year.values[1:-7],\n",
        "    max_temps_aus_agg.temp_mean.values[1:-7],\n",
        "    label=\"avg. max temperature\"\n",
        ")\n",
        "plt.plot(\n",
        "    min_temps_aus_agg.year.values[1:-7],\n",
        "    min_temps_aus_agg.temp_mean.values[1:-7],\n",
        "    label=\"avg. min temperature\"\n",
        ")\n",
        "plt.plot(\n",
        "    min_temps_aus_agg.year.values[1:-7],\n",
        "    min_temps_aus_agg.temp_ext.values[1:-7],\n",
        "    label=\"min temperature\"\n",
        ")\n",
        "plt.title(\"Yearly Temperatures\")\n",
        "plt.legend()\n",
        "plt.show()"
      ],
      "metadata": {
        "colab": {
          "base_uri": "https://localhost:8080/",
          "height": 390
        },
        "id": "4ge9Odti-ar9",
        "outputId": "b2a94928-0b30-48e5-bd66-908909a9cb1d"
      },
      "execution_count": null,
      "outputs": [
        {
          "output_type": "display_data",
          "data": {
            "text/plain": [
              "<Figure size 648x432 with 1 Axes>"
            ],
            "image/png": "[encoded data removed]"
          },
          "metadata": {
            "needs_background": "light"
          }
        }
      ]
    },
    {
      "cell_type": "markdown",
      "source": [
        "From the yearly temperatures it is apparent that there is a general trend. At the of the 19th century there was a temporary increase, which quickly dipped back, but after 1920s there appears to be a steady increase."
      ],
      "metadata": {
        "id": "kU7pml3HtXbu"
      }
    },
    {
      "cell_type": "markdown",
      "source": [
        "## GDP and Emissions"
      ],
      "metadata": {
        "id": "X62Z_yqDuJPf"
      }
    },
    {
      "cell_type": "markdown",
      "source": [
        "Now, we are going to look at the gdp and emissions data."
      ],
      "metadata": {
        "id": "7DKh89aFHrpQ"
      }
    },
    {
      "cell_type": "code",
      "source": [
        "country_names = gdp.values[:, 0]\n",
        "gdp_per_year = gdp.values[:, 4:]\n",
        "years = [*range(1960, 2022)]\n",
        "plt.figure(figsize=(9, 6))\n",
        "for i, name in enumerate(country_names):\n",
        "    plt.plot(years, gdp_per_year[i], label=name)\n",
        "plt.plot(years, gdp_per_year.sum(axis=0), label=\"Aggregate\")\n",
        "# plt.yscale(\"log\")\n",
        "plt.title(\"GDP\")\n",
        "plt.legend()\n",
        "plt.show()"
      ],
      "metadata": {
        "colab": {
          "base_uri": "https://localhost:8080/",
          "height": 390
        },
        "id": "QqxkKYYGFsC5",
        "outputId": "ace204b4-a266-4986-dfdb-ca9dca13dd87"
      },
      "execution_count": null,
      "outputs": [
        {
          "output_type": "display_data",
          "data": {
            "text/plain": [
              "<Figure size 648x432 with 1 Axes>"
            ],
            "image/png": "[encoded data removed]"
          },
          "metadata": {
            "needs_background": "light"
          }
        }
      ]
    },
    {
      "cell_type": "markdown",
      "source": [
        "It can be seen that the gdp patterns for countries differ. For example, most countries have mostly stable gdp per year with only one significat increase between 2000 and 2010, but US and China still experiencing high growth. However, only China seems to have not transitioned into decreasing growth (deacceleration). Also, looking at aggregate gdp for these countries it can mostly be explained only by US and China's gdps."
      ],
      "metadata": {
        "id": "JBrtHVHbH2zc"
      }
    },
    {
      "cell_type": "code",
      "source": [
        "country_names = co2_emissions.values[:, 0]\n",
        "co2_per_year = co2_emissions.values[:, 4:]\n",
        "years = [*range(1960, 2022)]\n",
        "plt.figure(figsize=(9, 6))\n",
        "for i, name in enumerate(country_names):\n",
        "    plt.plot(years, co2_per_year[i], label=name)\n",
        "plt.plot(years, co2_per_year.sum(axis=0), label=\"Aggregate\")\n",
        "# plt.yscale(\"log\")\n",
        "plt.title(\"Emissions\")\n",
        "plt.legend()\n",
        "plt.show()"
      ],
      "metadata": {
        "colab": {
          "base_uri": "https://localhost:8080/",
          "height": 390
        },
        "id": "IWZHEdurHLxZ",
        "outputId": "fd74d7cf-0f3c-4941-f505-cfe56b166d91"
      },
      "execution_count": null,
      "outputs": [
        {
          "output_type": "display_data",
          "data": {
            "text/plain": [
              "<Figure size 648x432 with 1 Axes>"
            ],
            "image/png": "[encoded data removed]"
          },
          "metadata": {
            "needs_background": "light"
          }
        }
      ]
    },
    {
      "cell_type": "markdown",
      "source": [
        "For emissions we have a similar picture to gdp. Total emissions are mostly explained by US and China, and China still drives the increase in emissions."
      ],
      "metadata": {
        "id": "nu-8PCzrJht9"
      }
    },
    {
      "cell_type": "markdown",
      "source": [
        "Now, let's take a look at proportion of gdp that is explained by industry and agriculture. This is important since they usually have larger effect on climate than other sectors of economy."
      ],
      "metadata": {
        "id": "6miOkNyaJ6po"
      }
    },
    {
      "cell_type": "code",
      "source": [
        "country_names = industry_percent.values[:, 0]\n",
        "industry_percent_per_year = industry_percent.values[:, 4:]\n",
        "agriculture_percent_per_year = agriculture_percent.values[:, 4:]\n",
        "gdp_per_year = gdp.values[:, 4:]\n",
        "industry_in_gdp = industry_percent_per_year * gdp_per_year / 100.0\n",
        "agriculture_in_gdp = agriculture_percent_per_year * gdp_per_year / 100.0\n",
        "years = [*range(1960, 2022)]\n",
        "plt.figure(figsize=(9, 6))\n",
        "\n",
        "plt.plot(years, gdp_per_year.sum(axis=0), label=\"GDP\")\n",
        "plt.plot(years, industry_in_gdp.sum(axis=0), label=\"Industry in GDP\")\n",
        "plt.plot(years, agriculture_in_gdp.sum(axis=0), label=\"Agriculture in GDP\")\n",
        "# plt.yscale(\"log\")\n",
        "plt.title(\"Aggregate GDP statistics\")\n",
        "plt.legend()\n",
        "plt.show()"
      ],
      "metadata": {
        "colab": {
          "base_uri": "https://localhost:8080/",
          "height": 390
        },
        "id": "ANG3wL4NH1ZR",
        "outputId": "b13f5126-d952-4997-bdf2-1827d8b5d744"
      },
      "execution_count": null,
      "outputs": [
        {
          "output_type": "display_data",
          "data": {
            "text/plain": [
              "<Figure size 648x432 with 1 Axes>"
            ],
            "image/png": "[encoded data removed]"
          },
          "metadata": {
            "needs_background": "light"
          }
        }
      ]
    },
    {
      "cell_type": "markdown",
      "source": [
        "From the graph we can see that both industry and argiculture do not have a large impact on gdp. The agriculture sector is mostly stable experiencing only minor growth, but industrial sector increase for than 2 fold in the 21st century."
      ],
      "metadata": {
        "id": "P1mnQblxKWTL"
      }
    },
    {
      "cell_type": "markdown",
      "source": [
        "Finally, let's look at all the aggregate statistics at the same time. Since they have different ranges, we are going to normalize them as a percent of the respective maximums."
      ],
      "metadata": {
        "id": "68sokfokK3yg"
      }
    },
    {
      "cell_type": "code",
      "source": [
        "def pct_of_max(values):\n",
        "    values = values.astype(float)\n",
        "    return values / values[~np.isnan(values)].max() * 100\n",
        "\n",
        "plt.figure(figsize=(16, 12))\n",
        "# plt.plot(max_temps_aus_agg.year.values[101:-7], pct_of_max(max_temps_aus_agg.temp_ext.values[101:-7]), label=\"Max temperature\")\n",
        "plt.plot(max_temps_aus_agg.year.values[101:-7], pct_of_max(max_temps_aus_agg.temp_mean.values[101:-7]), label=\"Mean max temperature\")\n",
        "plt.plot(min_temps_aus_agg.year.values[101:-7], pct_of_max(min_temps_aus_agg.temp_mean.values[101:-7]), label=\"Mean min temperature\")\n",
        "# plt.plot(min_temps_aus_agg.year.values[101:-7], pct_of_max(min_temps_aus_agg.temp_ext.values[101:-7]), label=\"Min temperature\")\n",
        "plt.plot(years, pct_of_max(co2_per_year.sum(axis=0)), label=\"Emissions\")\n",
        "plt.plot(years, pct_of_max(industry_in_gdp.sum(axis=0)), label=\"Industry in GDP\")\n",
        "plt.plot(years, pct_of_max(gdp_per_year.sum(axis=0)), label=\"GDP\")\n",
        "\n",
        "# plt.yscale(\"log\")\n",
        "plt.title(\"Aggregate statistics as a percent of the maximum value\")\n",
        "plt.legend()\n",
        "plt.show()"
      ],
      "metadata": {
        "colab": {
          "base_uri": "https://localhost:8080/",
          "height": 716
        },
        "id": "lDCa8tINI1LB",
        "outputId": "72e95fb0-798f-46de-f317-e3bdc7002725"
      },
      "execution_count": null,
      "outputs": [
        {
          "output_type": "display_data",
          "data": {
            "text/plain": [
              "<Figure size 1152x864 with 1 Axes>"
            ],
            "image/png": "[encoded data removed]"
          },
          "metadata": {
            "needs_background": "light"
          }
        }
      ]
    },
    {
      "cell_type": "markdown",
      "source": [
        "The graph shows that while all the metrics experienced growth, they were not equal. The temperatures increase much more slower than others. Surprisingly, there is also a significant difference between minimum and maximum temperatures. The minimum temperatures experience quite a bit larger relative increase than the maximum temperatures."
      ],
      "metadata": {
        "id": "wyAhhxBULH2T"
      }
    },
    {
      "cell_type": "markdown",
      "source": [
        "From all of this, it can be concluded that the connection between emissions/economy and temperatures is not strikingly apparent. The problem might lie in several things: the effect is small and/or has a long delay, which is not obvious on such short ranges; or the interaction is complex. From these observations, I expect when modeling the data, the most important features are going to be previous temperatures and the date (due to generally linear trend on this range). Emissions and economy characteristics should also have an effect, but it is difficult to say if it will be significant or models will be able to detect it."
      ],
      "metadata": {
        "id": "U3E4KtjuMS7c"
      }
    },
    {
      "cell_type": "markdown",
      "source": [
        "# Modeling"
      ],
      "metadata": {
        "id": "SX-sSO935v8U"
      }
    },
    {
      "cell_type": "markdown",
      "source": [
        "## Defining Common Function"
      ],
      "metadata": {
        "id": "u58c8uIADsHF"
      }
    },
    {
      "cell_type": "markdown",
      "source": [
        "In this section we are defining the functions that are going to be used during modeling. The 4 worldbank tables are also combined into one and transformed like in EDA (percent of maximum)."
      ],
      "metadata": {
        "id": "tykKLz_tOI1k"
      }
    },
    {
      "cell_type": "markdown",
      "source": [
        "### Data Functions"
      ],
      "metadata": {
        "id": "N-_TAsYJGnRc"
      }
    },
    {
      "cell_type": "code",
      "source": [
        "'''\n",
        "Functions used to combined the worldbank data into one table\n",
        "'''\n",
        "\n",
        "\n",
        "def pct_of_max(values):\n",
        "    '''Returns a new array with values replaced as percents of the maximum of the array'''\n",
        "    values = values.astype(float)\n",
        "    result = values / values.max(axis=1, keepdims=True)\n",
        "    return result\n",
        "\n",
        "def update_to_pct(df):\n",
        "    '''Prepares worldbank table for combining'''\n",
        "    result = df.copy().drop(\n",
        "        [\"Country Code\", \"Indicator Name\", \"Indicator Code\", \"2020\", \"2021\"], axis=1\n",
        "    ).fillna(method=\"backfill\", axis=1)\n",
        "    old_cols = result.columns[1:]\n",
        "    pct = pct_of_max(result.values[:, 1:])\n",
        "\n",
        "    new_cols = [col + \"_pct\" for col in old_cols]\n",
        "    for i, col in enumerate(new_cols):\n",
        "        result[col] = pct[:, i]\n",
        "    return result\n",
        "\n",
        "\n",
        "# Combining the worldbank tables into one table\n",
        "worldbank_prefixes = [\"_gdp\", \"_ind\", \"_agr\", \"_co2\"]\n",
        "combined_worldbank = pd.merge(\n",
        "    pd.merge(\n",
        "        pd.merge(\n",
        "            update_to_pct(gdp),\n",
        "            update_to_pct(industry_percent),\n",
        "            how=\"outer\", on=\"Country Name\", suffixes=(worldbank_prefixes[0], worldbank_prefixes[1])),\n",
        "        update_to_pct(agriculture_percent),\n",
        "        how=\"outer\", on=\"Country Name\", suffixes=(\"\", \"\")\n",
        "    ),\n",
        "    update_to_pct(co2_emissions),\n",
        "    how=\"outer\", on=\"Country Name\", suffixes=(worldbank_prefixes[2], worldbank_prefixes[3])\n",
        ")\n",
        "print(combined_worldbank.isna().any().any())\n",
        "combined_worldbank"
      ],
      "metadata": {
        "colab": {
          "base_uri": "https://localhost:8080/",
          "height": 449
        },
        "id": "MncRLl6v8Is6",
        "outputId": "7a64d3d5-7a3e-4668-d175-45d8d98b6351"
      },
      "execution_count": null,
      "outputs": [
        {
          "output_type": "stream",
          "name": "stdout",
          "text": [
            "False\n"
          ]
        },
        {
          "output_type": "execute_result",
          "data": {
            "text/plain": [
              "     Country Name            1960_gdp            1961_gdp            1962_gdp  \\\n",
              "0       Argentina  24450604877.493401  24450604877.493401  24450604877.493401   \n",
              "1       Australia      18606786874.23    19683055213.3498  19922723709.262001   \n",
              "2           China  59716467625.314796  50056868957.673203  47209359005.605698   \n",
              "3  United Kingdom  73233967692.102798  77741965703.354401    81247564156.8246   \n",
              "4         Iceland    248434096.968726    253885656.329253    284916516.159537   \n",
              "5   United States      543300000000.0      563300000000.0      605100000000.0   \n",
              "6    South Africa   8748596504.235809   9225996313.476391   9813996078.523451   \n",
              "\n",
              "             1963_gdp            1964_gdp             1965_gdp  \\\n",
              "0  18272123664.399399  25605249381.759701   28344705966.580101   \n",
              "1     21539926083.548  23801097547.317699   25977153096.651402   \n",
              "2  50706799902.510399  59708343488.504303   70436266146.721893   \n",
              "3  86561961812.324905  94407558351.161606  101824755078.990997   \n",
              "4    340061650.119898    434267936.914583     523694949.370689   \n",
              "5      638600000000.0      685800000000.0       743700000000.0   \n",
              "6  10854195662.880501    11955995222.6234     13068994777.8911   \n",
              "\n",
              "              1966_gdp             1967_gdp             1968_gdp  ...  \\\n",
              "0   28630474727.854599   24256667553.256901   26436857247.469601  ...   \n",
              "1   27309889125.321999   30444618658.304401   32716989584.499901  ...   \n",
              "2   76720285969.615707   72881631326.671494   70846535055.650299  ...   \n",
              "3  108572752102.044998  113116888210.787003  107759910067.889008  ...   \n",
              "4     628893310.399926     621225962.154708     474399471.622359  ...   \n",
              "5       815000000000.0       861700000000.0       942500000000.0  ...   \n",
              "6     14211394321.4111     15821393678.0875     17124793157.2752  ...   \n",
              "\n",
              "  2010_pct_co2 2011_pct_co2 2012_pct_co2 2013_pct_co2 2014_pct_co2  \\\n",
              "0     0.900321     0.928528     0.941916     0.966252     0.962726   \n",
              "1     0.847533     1.000000     0.998653     0.869138     0.893662   \n",
              "2     0.804285     0.873523     0.896134     0.934903     0.939626   \n",
              "3     0.783050     0.726200     0.752883     0.729868     0.677561   \n",
              "4     0.852243     0.802111     0.799472     0.844327     0.860158   \n",
              "5     0.946910     0.917808     0.885619     0.906398     0.913068   \n",
              "6     0.952323     0.924188     0.960222     0.977695     1.000000   \n",
              "\n",
              "  2015_pct_co2 2016_pct_co2 2017_pct_co2 2018_pct_co2 2019_pct_co2  \n",
              "0     0.980886     0.989714     1.000000     0.994406     0.978367  \n",
              "1     0.893228     0.859518     0.932564     0.923766     0.876769  \n",
              "2     0.930215     0.928827     0.947279     0.981582     1.000000  \n",
              "3     0.657220     0.631053     0.611282     0.600450     0.582772  \n",
              "4     0.873351     0.749340     0.762533     0.767810     0.751979  \n",
              "5     0.896085     0.880179     0.872011     0.901900     0.884159  \n",
              "6     0.955889     0.956014     0.981885     0.980013     0.990318  \n",
              "\n",
              "[7 rows x 481 columns]"
            ],
            "text/html": [
              "\n",
              "  <div id=\"df-0e2f22c9-72a3-4141-9ab8-b803e4966fac\">\n",
              "    <div class=\"colab-df-container\">\n",
              "      <div>\n",
              "<style scoped>\n",
              "    .dataframe tbody tr th:only-of-type {\n",
              "        vertical-align: middle;\n",
              "    }\n",
              "\n",
              "    .dataframe tbody tr th {\n",
              "        vertical-align: top;\n",
              "    }\n",
              "\n",
              "    .dataframe thead th {\n",
              "        text-align: right;\n",
              "    }\n",
              "</style>\n",
              "<table border=\"1\" class=\"dataframe\">\n",
              "  <thead>\n",
              "    <tr style=\"text-align: right;\">\n",
              "      <th></th>\n",
              "      <th>Country Name</th>\n",
              "      <th>1960_gdp</th>\n",
              "      <th>1961_gdp</th>\n",
              "      <th>1962_gdp</th>\n",
              "      <th>1963_gdp</th>\n",
              "      <th>1964_gdp</th>\n",
              "      <th>1965_gdp</th>\n",
              "      <th>1966_gdp</th>\n",
              "      <th>1967_gdp</th>\n",
              "      <th>1968_gdp</th>\n",
              "      <th>...</th>\n",
              "      <th>2010_pct_co2</th>\n",
              "      <th>2011_pct_co2</th>\n",
              "      <th>2012_pct_co2</th>\n",
              "      <th>2013_pct_co2</th>\n",
              "      <th>2014_pct_co2</th>\n",
              "      <th>2015_pct_co2</th>\n",
              "      <th>2016_pct_co2</th>\n",
              "      <th>2017_pct_co2</th>\n",
              "      <th>2018_pct_co2</th>\n",
              "      <th>2019_pct_co2</th>\n",
              "    </tr>\n",
              "  </thead>\n",
              "  <tbody>\n",
              "    <tr>\n",
              "      <th>0</th>\n",
              "      <td>Argentina</td>\n",
              "      <td>24450604877.493401</td>\n",
              "      <td>24450604877.493401</td>\n",
              "      <td>24450604877.493401</td>\n",
              "      <td>18272123664.399399</td>\n",
              "      <td>25605249381.759701</td>\n",
              "      <td>28344705966.580101</td>\n",
              "      <td>28630474727.854599</td>\n",
              "      <td>24256667553.256901</td>\n",
              "      <td>26436857247.469601</td>\n",
              "      <td>...</td>\n",
              "      <td>0.900321</td>\n",
              "      <td>0.928528</td>\n",
              "      <td>0.941916</td>\n",
              "      <td>0.966252</td>\n",
              "      <td>0.962726</td>\n",
              "      <td>0.980886</td>\n",
              "      <td>0.989714</td>\n",
              "      <td>1.000000</td>\n",
              "      <td>0.994406</td>\n",
              "      <td>0.978367</td>\n",
              "    </tr>\n",
              "    <tr>\n",
              "      <th>1</th>\n",
              "      <td>Australia</td>\n",
              "      <td>18606786874.23</td>\n",
              "      <td>19683055213.3498</td>\n",
              "      <td>19922723709.262001</td>\n",
              "      <td>21539926083.548</td>\n",
              "      <td>23801097547.317699</td>\n",
              "      <td>25977153096.651402</td>\n",
              "      <td>27309889125.321999</td>\n",
              "      <td>30444618658.304401</td>\n",
              "      <td>32716989584.499901</td>\n",
              "      <td>...</td>\n",
              "      <td>0.847533</td>\n",
              "      <td>1.000000</td>\n",
              "      <td>0.998653</td>\n",
              "      <td>0.869138</td>\n",
              "      <td>0.893662</td>\n",
              "      <td>0.893228</td>\n",
              "      <td>0.859518</td>\n",
              "      <td>0.932564</td>\n",
              "      <td>0.923766</td>\n",
              "      <td>0.876769</td>\n",
              "    </tr>\n",
              "    <tr>\n",
              "      <th>2</th>\n",
              "      <td>China</td>\n",
              "      <td>59716467625.314796</td>\n",
              "      <td>50056868957.673203</td>\n",
              "      <td>47209359005.605698</td>\n",
              "      <td>50706799902.510399</td>\n",
              "      <td>59708343488.504303</td>\n",
              "      <td>70436266146.721893</td>\n",
              "      <td>76720285969.615707</td>\n",
              "      <td>72881631326.671494</td>\n",
              "      <td>70846535055.650299</td>\n",
              "      <td>...</td>\n",
              "      <td>0.804285</td>\n",
              "      <td>0.873523</td>\n",
              "      <td>0.896134</td>\n",
              "      <td>0.934903</td>\n",
              "      <td>0.939626</td>\n",
              "      <td>0.930215</td>\n",
              "      <td>0.928827</td>\n",
              "      <td>0.947279</td>\n",
              "      <td>0.981582</td>\n",
              "      <td>1.000000</td>\n",
              "    </tr>\n",
              "    <tr>\n",
              "      <th>3</th>\n",
              "      <td>United Kingdom</td>\n",
              "      <td>73233967692.102798</td>\n",
              "      <td>77741965703.354401</td>\n",
              "      <td>81247564156.8246</td>\n",
              "      <td>86561961812.324905</td>\n",
              "      <td>94407558351.161606</td>\n",
              "      <td>101824755078.990997</td>\n",
              "      <td>108572752102.044998</td>\n",
              "      <td>113116888210.787003</td>\n",
              "      <td>107759910067.889008</td>\n",
              "      <td>...</td>\n",
              "      <td>0.783050</td>\n",
              "      <td>0.726200</td>\n",
              "      <td>0.752883</td>\n",
              "      <td>0.729868</td>\n",
              "      <td>0.677561</td>\n",
              "      <td>0.657220</td>\n",
              "      <td>0.631053</td>\n",
              "      <td>0.611282</td>\n",
              "      <td>0.600450</td>\n",
              "      <td>0.582772</td>\n",
              "    </tr>\n",
              "    <tr>\n",
              "      <th>4</th>\n",
              "      <td>Iceland</td>\n",
              "      <td>248434096.968726</td>\n",
              "      <td>253885656.329253</td>\n",
              "      <td>284916516.159537</td>\n",
              "      <td>340061650.119898</td>\n",
              "      <td>434267936.914583</td>\n",
              "      <td>523694949.370689</td>\n",
              "      <td>628893310.399926</td>\n",
              "      <td>621225962.154708</td>\n",
              "      <td>474399471.622359</td>\n",
              "      <td>...</td>\n",
              "      <td>0.852243</td>\n",
              "      <td>0.802111</td>\n",
              "      <td>0.799472</td>\n",
              "      <td>0.844327</td>\n",
              "      <td>0.860158</td>\n",
              "      <td>0.873351</td>\n",
              "      <td>0.749340</td>\n",
              "      <td>0.762533</td>\n",
              "      <td>0.767810</td>\n",
              "      <td>0.751979</td>\n",
              "    </tr>\n",
              "    <tr>\n",
              "      <th>5</th>\n",
              "      <td>United States</td>\n",
              "      <td>543300000000.0</td>\n",
              "      <td>563300000000.0</td>\n",
              "      <td>605100000000.0</td>\n",
              "      <td>638600000000.0</td>\n",
              "      <td>685800000000.0</td>\n",
              "      <td>743700000000.0</td>\n",
              "      <td>815000000000.0</td>\n",
              "      <td>861700000000.0</td>\n",
              "      <td>942500000000.0</td>\n",
              "      <td>...</td>\n",
              "      <td>0.946910</td>\n",
              "      <td>0.917808</td>\n",
              "      <td>0.885619</td>\n",
              "      <td>0.906398</td>\n",
              "      <td>0.913068</td>\n",
              "      <td>0.896085</td>\n",
              "      <td>0.880179</td>\n",
              "      <td>0.872011</td>\n",
              "      <td>0.901900</td>\n",
              "      <td>0.884159</td>\n",
              "    </tr>\n",
              "    <tr>\n",
              "      <th>6</th>\n",
              "      <td>South Africa</td>\n",
              "      <td>8748596504.235809</td>\n",
              "      <td>9225996313.476391</td>\n",
              "      <td>9813996078.523451</td>\n",
              "      <td>10854195662.880501</td>\n",
              "      <td>11955995222.6234</td>\n",
              "      <td>13068994777.8911</td>\n",
              "      <td>14211394321.4111</td>\n",
              "      <td>15821393678.0875</td>\n",
              "      <td>17124793157.2752</td>\n",
              "      <td>...</td>\n",
              "      <td>0.952323</td>\n",
              "      <td>0.924188</td>\n",
              "      <td>0.960222</td>\n",
              "      <td>0.977695</td>\n",
              "      <td>1.000000</td>\n",
              "      <td>0.955889</td>\n",
              "      <td>0.956014</td>\n",
              "      <td>0.981885</td>\n",
              "      <td>0.980013</td>\n",
              "      <td>0.990318</td>\n",
              "    </tr>\n",
              "  </tbody>\n",
              "</table>\n",
              "<p>7 rows × 481 columns</p>\n",
              "</div>\n",
              "      <button class=\"colab-df-convert\" onclick=\"convertToInteractive('df-0e2f22c9-72a3-4141-9ab8-b803e4966fac')\"\n",
              "              title=\"Convert this dataframe to an interactive table.\"\n",
              "              style=\"display:none;\">\n",
              "        \n",
              "  <svg xmlns=\"http://www.w3.org/2000/svg\" height=\"24px\"viewBox=\"0 0 24 24\"\n",
              "       width=\"24px\">\n",
              "    <path d=\"M0 0h24v24H0V0z\" fill=\"none\"/>\n",
              "    <path d=\"M18.56 5.44l.94 2.06.94-2.06 2.06-.94-2.06-.94-.94-2.06-.94 2.06-2.06.94zm-11 1L8.5 8.5l.94-2.06 2.06-.94-2.06-.94L8.5 2.5l-.94 2.06-2.06.94zm10 10l.94 2.06.94-2.06 2.06-.94-2.06-.94-.94-2.06-.94 2.06-2.06.94z\"/><path d=\"M17.41 7.96l-1.37-1.37c-.4-.4-.92-.59-1.43-.59-.52 0-1.04.2-1.43.59L10.3 9.45l-7.72 7.72c-.78.78-.78 2.05 0 2.83L4 21.41c.39.39.9.59 1.41.59.51 0 1.02-.2 1.41-.59l7.78-7.78 2.81-2.81c.8-.78.8-2.07 0-2.86zM5.41 20L4 18.59l7.72-7.72 1.47 1.35L5.41 20z\"/>\n",
              "  </svg>\n",
              "      </button>\n",
              "      \n",
              "  <style>\n",
              "    .colab-df-container {\n",
              "      display:flex;\n",
              "      flex-wrap:wrap;\n",
              "      gap: 12px;\n",
              "    }\n",
              "\n",
              "    .colab-df-convert {\n",
              "      background-color: #E8F0FE;\n",
              "      border: none;\n",
              "      border-radius: 50%;\n",
              "      cursor: pointer;\n",
              "      display: none;\n",
              "      fill: #1967D2;\n",
              "      height: 32px;\n",
              "      padding: 0 0 0 0;\n",
              "      width: 32px;\n",
              "    }\n",
              "\n",
              "    .colab-df-convert:hover {\n",
              "      background-color: #E2EBFA;\n",
              "      box-shadow: 0px 1px 2px rgba(60, 64, 67, 0.3), 0px 1px 3px 1px rgba(60, 64, 67, 0.15);\n",
              "      fill: #174EA6;\n",
              "    }\n",
              "\n",
              "    [theme=dark] .colab-df-convert {\n",
              "      background-color: #3B4455;\n",
              "      fill: #D2E3FC;\n",
              "    }\n",
              "\n",
              "    [theme=dark] .colab-df-convert:hover {\n",
              "      background-color: #434B5C;\n",
              "      box-shadow: 0px 1px 3px 1px rgba(0, 0, 0, 0.15);\n",
              "      filter: drop-shadow(0px 1px 2px rgba(0, 0, 0, 0.3));\n",
              "      fill: #FFFFFF;\n",
              "    }\n",
              "  </style>\n",
              "\n",
              "      <script>\n",
              "        const buttonEl =\n",
              "          document.querySelector('#df-0e2f22c9-72a3-4141-9ab8-b803e4966fac button.colab-df-convert');\n",
              "        buttonEl.style.display =\n",
              "          google.colab.kernel.accessAllowed ? 'block' : 'none';\n",
              "\n",
              "        async function convertToInteractive(key) {\n",
              "          const element = document.querySelector('#df-0e2f22c9-72a3-4141-9ab8-b803e4966fac');\n",
              "          const dataTable =\n",
              "            await google.colab.kernel.invokeFunction('convertToInteractive',\n",
              "                                                     [key], {});\n",
              "          if (!dataTable) return;\n",
              "\n",
              "          const docLinkHtml = 'Like what you see? Visit the ' +\n",
              "            '<a target=\"_blank\" href=https://colab.research.google.com/notebooks/data_table.ipynb>data table notebook</a>'\n",
              "            + ' to learn more about interactive tables.';\n",
              "          element.innerHTML = '';\n",
              "          dataTable['output_type'] = 'display_data';\n",
              "          await google.colab.output.renderOutput(dataTable, element);\n",
              "          const docLink = document.createElement('div');\n",
              "          docLink.innerHTML = docLinkHtml;\n",
              "          element.appendChild(docLink);\n",
              "        }\n",
              "      </script>\n",
              "    </div>\n",
              "  </div>\n",
              "  "
            ]
          },
          "metadata": {},
          "execution_count": 48
        }
      ]
    },
    {
      "cell_type": "code",
      "source": [
        "'''\n",
        "Functions used for generating train and test data.\n",
        "'''\n",
        "\n",
        "\n",
        "def check_splits_for_nan(splits):\n",
        "    '''Utility to check if the training splits contain invalid data.'''\n",
        "    for ((X_train, y_train), (X_test, y_test)) in splits:\n",
        "        if np.isnan(X_train).any() or np.isnan(y_train).any() or np.isnan(X_test).any() or np.isnan(y_test).any():\n",
        "            print(\"There is a missing value in the data.\")\n",
        "            return True\n",
        "    return False\n",
        "\n",
        "data_min_year = 2000\n",
        "def get_splits(get_data_for_month):\n",
        "    '''\n",
        "    Generates splits in the whole data range taking into account time dependencies.\n",
        "    Uses a passed function pointer to generate data points.\n",
        "    '''\n",
        "    splits = []\n",
        "    for predict_year in range(minimal_max_year - 4, minimal_max_year + 1):\n",
        "        for predict_month in range(1, 13):\n",
        "            X_test, y_test = get_data_for_month(predict_year, predict_month)\n",
        "            X_test = X_test.reshape(1, -1)\n",
        "            y_test = y_test.reshape(1, -1)\n",
        "\n",
        "            n_train = (predict_year - data_min_year) * 12 + predict_month - 1\n",
        "            X_train = []\n",
        "            y_train = []\n",
        "            for year in range(data_min_year, predict_year + 1):\n",
        "                for month in range(1, 13):\n",
        "                    if year == predict_year and month >= predict_month:\n",
        "                        continue\n",
        "                    x, y = get_data_for_month(year, month)\n",
        "                    X_train.append(x)\n",
        "                    y_train.append(y)\n",
        "            X_train = np.array(X_train)\n",
        "            y_train = np.array(y_train)\n",
        "\n",
        "\n",
        "            splits.append([(X_train, y_train), (X_test, y_test)])\n",
        "\n",
        "    print((X_train.shape, y_train.shape), (X_test.shape, y_test.shape))\n",
        "    print(check_splits_for_nan(splits))\n",
        "    return splits\n",
        "\n",
        "def get_wb_cols(start_year, end_year):\n",
        "    '''Utility to get column names in worldbank table for the specified (inclusive) range'''\n",
        "    for year in range(start_year, end_year + 1):\n",
        "        year = str(year)\n",
        "        for prefix in worldbank_prefixes:\n",
        "            yield year + \"_pct\" + prefix\n",
        "\n",
        "def get_total_cols(start_year, end_year):\n",
        "    '''Utility to get indices for aggregate co2 and gdp tables for the specified (inclusive) range'''\n",
        "    for year in range(start_year - 1960, end_year - 1960 + 1):\n",
        "        yield year\n",
        "\n",
        "total_gdp_per_year = gdp_per_year.sum(axis=0)\n",
        "total_gdp_per_year /= np.nanmax(total_gdp_per_year)\n",
        "total_co2_per_year = co2_per_year.sum(axis=0)\n",
        "total_co2_per_year /= np.nanmax(total_co2_per_year)\n",
        "def get_total_for_year(year):\n",
        "    '''Gets total gdp and co2 emissions for the previous 10 years'''\n",
        "    last_10_year_gdp = total_gdp_per_year[list(get_total_cols(year - 10, year - 1))].astype(float).reshape(-1)\n",
        "    last_10_year_co2 = total_co2_per_year[list(get_total_cols(year - 10, year - 1))].astype(float).reshape(-1)\n",
        "    return last_10_year_gdp, last_10_year_co2\n",
        "\n",
        "temps_aus = min_temps_aus.copy()\n",
        "temps_aus[\"min_temp\"] = temps_aus[\"temp\"].copy()\n",
        "temps_aus[\"max_temp\"] = max_temps_aus[\"temp\"].values\n",
        "temps_aus.drop([\"station\", \"country\", \"temp\"], axis=1, inplace=True)\n",
        "temps_aus_agg = temps_aus.groupby(\"year\") \\\n",
        "                .agg({\"min_temp\": (np.min, np.mean), \"max_temp\": (np.max, np.mean)}) \\\n",
        "                .reset_index()\n",
        "def get_last_10_year_temp(year):\n",
        "    '''Gets aggregated temperatures for the previous 10 years'''\n",
        "    last_10_year_mask = (temps_aus_agg.year >= year - 10) & (temps_aus_agg.year <= year - 1)\n",
        "    return temps_aus_agg[last_10_year_mask].values[:, 1:].reshape(-1) / 25\n",
        "\n",
        "def get_last_12_month_temp(year, month):\n",
        "    '''Gets temperatures for the previos 12 months'''\n",
        "    last_12_month_mask = (\n",
        "        ((temps_aus.year == year - 1) & (temps_aus.month >= month)) |\n",
        "        (((temps_aus.year == year) & (temps_aus.month < month)))\n",
        "    ) \n",
        "    return temps_aus[last_12_month_mask][[\"min_temp\", \"max_temp\"]].values.reshape(-1) / 25\n",
        "\n",
        "def get_month_year(year, month):\n",
        "    '''Normalized year and month values into a float range'''\n",
        "    return [((month - 1) / 11 - 0.5) * 2, ((year - data_min_year) / 15 - 0.5) * 2]\n",
        "\n",
        "def get_min_max(year, month):\n",
        "    '''Gets the minimum and maximum temperatures for the specified month'''\n",
        "    predict_mask = (temps_aus.year == year) & (temps_aus.month == month)\n",
        "    temps_predict = temps_aus[predict_mask]\n",
        "    return np.array(temps_predict[[\"min_temp\", \"max_temp\"]]).reshape(-1)\n",
        "\n",
        "def get_last_10_year_wb(year):\n",
        "    '''Gets all the worldbank data for the previous 10 years.'''\n",
        "    return combined_worldbank[get_wb_cols(year - 10, year - 1)].values.astype(float).reshape(-1)\n",
        "\n",
        "combined_wb_aus = combined_worldbank[combined_worldbank[\"Country Name\"] == \"Australia\"]\n",
        "def get_last_10_year_wb_aus(year):\n",
        "    '''Gets only Australia's worldbank data for the previous 10 years.'''\n",
        "    return combined_wb_aus[get_wb_cols(year - 10, year - 1)].values.astype(float).reshape(-1)\n",
        "\n",
        "def get_last_year_wb_aus(year):\n",
        "    '''Gets only Australia's worldbank data for the previous year.'''\n",
        "    return combined_wb_aus[get_wb_cols(year - 1, year - 1)].values.astype(float).reshape(-1)\n",
        "\n",
        "combined_wb_wo_aus = combined_worldbank[combined_worldbank[\"Country Name\"] != \"Australia\"]\n",
        "def get_last_10_year_wb_wo_aus(year):\n",
        "    '''Gets all the worldbank data except for Australia for the previous 10 years.'''\n",
        "    return combined_wb_wo_aus[get_wb_cols(year - 10, year - 1)].values.astype(float).reshape(-1)"
      ],
      "metadata": {
        "id": "j2DLD2X7GmvO"
      },
      "execution_count": null,
      "outputs": []
    },
    {
      "cell_type": "markdown",
      "source": [
        "### Metric Function"
      ],
      "metadata": {
        "id": "DIrrf3OuDggN"
      }
    },
    {
      "cell_type": "code",
      "source": [
        "def rmse(predicted, true):\n",
        "    '''Root mean square error'''\n",
        "    return np.sqrt(mean_squared_error(true, predicted))"
      ],
      "metadata": {
        "id": "dFjZzx6MHVZj"
      },
      "execution_count": null,
      "outputs": []
    },
    {
      "cell_type": "markdown",
      "source": [
        "### Visualization Functions"
      ],
      "metadata": {
        "id": "Wb2lZ8XhDjWx"
      }
    },
    {
      "cell_type": "code",
      "source": [
        "def show_corr(data):\n",
        "    '''Computes and plots pairwise correlations'''\n",
        "    corr = np.corrcoef(data, rowvar=False)\n",
        "    plt.figure(figsize=(6, 6))\n",
        "    sns.heatmap(corr)\n",
        "    plt.show()\n",
        "\n",
        "def show_forest_importance(model):\n",
        "    '''\n",
        "    Displays feature importance for a RandomForest model.\n",
        "\n",
        "    Reference code from: https://scikit-learn.org/stable/auto_examples/ensemble/plot_forest_importances.html\n",
        "    '''\n",
        "    forest = model.estimators_[0]\n",
        "    importances = forest.feature_importances_\n",
        "    std = np.std([tree.feature_importances_ for tree in forest.estimators_], axis=0)\n",
        "\n",
        "    forest_importances = pd.Series(importances, index=range(importances.shape[0]))\n",
        "\n",
        "    fig, ax = plt.subplots(figsize=(16, 4))\n",
        "    forest_importances.plot.bar(yerr=std, ax=ax)\n",
        "    ax.set_title(\"Feature importances using MDI\")\n",
        "    ax.set_ylabel(\"Mean decrease in impurity\")\n",
        "    fig.tight_layout()\n",
        "\n",
        "def train_and_show_forest(splits, n_est):\n",
        "    '''\n",
        "    Trains and displays feature importance for a RandomForest model.\n",
        "    '''\n",
        "    ((X_train, y_train), (X_test, y_test)) = splits[-1]\n",
        "    model = MultiOutputRegressor(RandomForestRegressor(n_estimators=n_est))\n",
        "    model = model.fit(X_train, y_train)\n",
        "    print(f\"RMSE = {rmse(model.predict(X_test), y_test):.2}\")\n",
        "\n",
        "    show_forest_importance(model)"
      ],
      "metadata": {
        "id": "CzzNk1avDfjV"
      },
      "execution_count": null,
      "outputs": []
    },
    {
      "cell_type": "markdown",
      "source": [
        "### Training Functions"
      ],
      "metadata": {
        "id": "J0UvkM6DDpap"
      }
    },
    {
      "cell_type": "code",
      "source": [
        "def train_linear(splits, verbose=False, alphas=(100, 10, 5, 3, 1, 0.5, 0.3, 0.1, 0.05, 0.01, 0.001, 0.0005)):\n",
        "    '''\n",
        "    Performs a hyperparamater search for Lasso and Ridge regressions and displays best results.\n",
        "    '''\n",
        "    print(\"Without scaling the data\")\n",
        "    max_iter = 5000\n",
        "    for model_cls in (Lasso, Ridge):\n",
        "        if verbose: print(\" Best alpha for\", model_cls.__name__)\n",
        "        best = (float(\"inf\"), None)\n",
        "        for alpha in alphas:\n",
        "            mean_rmse = 0\n",
        "            for ((X_train, y_train), (X_test, y_test)) in splits:\n",
        "                model = model_cls(alpha=alpha, max_iter=max_iter).fit(X_train, y_train)\n",
        "                mean_rmse += rmse(model.predict(X_test), y_test)\n",
        "            mean_rmse /= len(splits)\n",
        "            if mean_rmse < best[0]:\n",
        "                best = (mean_rmse, alpha)\n",
        "                if verbose: print(best)\n",
        "        print(f\"  Best for {model_cls.__name__}: alpha={best[1]}, rmse={best[0]:.3f}\")\n",
        "\n",
        "    print(\"\\nWith scaling only the features (not the targets)\")\n",
        "    for model_cls in (Lasso, Ridge):\n",
        "        if verbose: print(\" Best alpha for\", model_cls.__name__)\n",
        "        best = (float(\"inf\"), None)\n",
        "        for alpha in alphas:\n",
        "            mean_rmse = 0\n",
        "            for ((X_train, y_train), (X_test, y_test)) in splits:\n",
        "                scaler = StandardScaler().fit(X_train)\n",
        "                model = model_cls(alpha=alpha, max_iter=max_iter).fit(scaler.transform(X_train), y_train)\n",
        "                mean_rmse += rmse(model.predict(scaler.transform(X_test)), y_test)\n",
        "            mean_rmse /= len(splits)\n",
        "            if mean_rmse < best[0]:\n",
        "                best = (mean_rmse, alpha)\n",
        "                if verbose: print(best)\n",
        "        print(f\"  Best for {model_cls.__name__}: alpha={best[1]}, rmse={best[0]:.3f}\")\n",
        "\n",
        "    print(\"\\nWith scaling all the data\")\n",
        "    for model_cls in (Lasso, Ridge):\n",
        "        if verbose: print(\" Best alpha for\", model_cls.__name__)\n",
        "        best = (float(\"inf\"), None)\n",
        "        for alpha in alphas:\n",
        "            mean_rmse = 0\n",
        "            for ((X_train, y_train), (X_test, y_test)) in splits:\n",
        "                x_scaler = StandardScaler().fit(X_train)\n",
        "                y_scaler = StandardScaler().fit(y_train)\n",
        "                model = model_cls(alpha=alpha, max_iter=max_iter).fit(x_scaler.transform(X_train), y_scaler.transform(y_train))\n",
        "                mean_rmse += rmse(\n",
        "                    y_scaler.inverse_transform(model.predict(x_scaler.transform(X_test))), y_test\n",
        "                )\n",
        "            mean_rmse /= len(splits)\n",
        "            if mean_rmse < best[0]:\n",
        "                best = (mean_rmse, alpha)\n",
        "                if verbose: print(best)\n",
        "        print(f\"  Best for {model_cls.__name__}: alpha={best[1]}, rmse={best[0]:.3f}\")\n",
        "\n",
        "def train_boosting(splits, verbose=False):\n",
        "    '''\n",
        "    Performs a hyperparamater search for GradientBoostingRegressor and displays best results.\n",
        "    '''\n",
        "    best = (float(\"inf\"), None, None)\n",
        "    for lr in (1, 0.5, 0.1, 0.05, 0.01, 0.005, 0.001, 0.0001):\n",
        "        if verbose: print(lr)\n",
        "        for n_est in (200, 100, 80, 50, 20, 5):\n",
        "            mean_rmse = 0\n",
        "            for ((X_train, y_train), (X_test, y_test)) in splits:\n",
        "                model = MultiOutputRegressor(GradientBoostingRegressor(learning_rate=lr, n_estimators=n_est))\n",
        "                model = model.fit(X_train, y_train)\n",
        "                mean_rmse += rmse(model.predict(X_test), y_test)\n",
        "            mean_rmse /= len(splits)\n",
        "            if mean_rmse < best[0]:\n",
        "                best = (mean_rmse, lr, n_est)\n",
        "                if verbose: print(best)\n",
        "    print(f\" Learning rate={best[1]}, estimators={best[2]}, rmse={best[0]:.3f}\")\n",
        "\n",
        "def train_forest(splits, verbose=False):\n",
        "    '''\n",
        "    Performs a hyperparamater search for RandomForestRegressor and displays best results.\n",
        "    '''\n",
        "    best = (float(\"inf\"), None)\n",
        "    for n_est in (5, 20, 50, 80, 100, 300, 500):\n",
        "        mean_rmse = 0\n",
        "        for ((X_train, y_train), (X_test, y_test)) in splits:\n",
        "            model = MultiOutputRegressor(RandomForestRegressor(n_estimators=n_est, n_jobs=-1))\n",
        "            model = model.fit(X_train, y_train)\n",
        "            mean_rmse += rmse(model.predict(X_test), y_test)\n",
        "        mean_rmse /= len(splits)\n",
        "        if mean_rmse < best[0]:\n",
        "            best = (mean_rmse, n_est)\n",
        "            if verbose: print(best)\n",
        "    print(f\" Estimators={best[1]}, rmse={best[0]:.3f}\")\n",
        "\n",
        "def train_lasso(splits, alpha):\n",
        "    '''Trains a Lasso model'''\n",
        "    ((X_train, y_train), (X_test, y_test)) = splits[-1]\n",
        "    model = Lasso(alpha=alpha).fit(X_train, y_train)\n",
        "    print(\"RMSE =\", rmse(model.predict(X_test), y_test))\n",
        "    return model"
      ],
      "metadata": {
        "id": "WWsMiYnFCtnd"
      },
      "execution_count": null,
      "outputs": []
    },
    {
      "cell_type": "markdown",
      "source": [
        "## Modeling using only Australia's temperature data"
      ],
      "metadata": {
        "id": "f89fZUdh5ffc"
      }
    },
    {
      "cell_type": "markdown",
      "source": [
        "First, we are going to see what kind of performance is possible to achieve using only temperatures and dates."
      ],
      "metadata": {
        "id": "LbRr8rGSOfdk"
      }
    },
    {
      "cell_type": "markdown",
      "source": [
        "It is important to note that the data is time-dependent. Because of that we can't just randomly split data for cross-validation. Instead we are going to train on slices of data based on time (e.g. predict for year 2010 using a model trained on the data from 2009 and before, then repeat for 2011, ... 2014). The validation score for all slices then will be averaged to get the validation score for the model."
      ],
      "metadata": {
        "id": "rGFuf0l52kf9"
      }
    },
    {
      "cell_type": "markdown",
      "source": [
        "Since we have a lot of data, we are going to use only a few aggregated features for predicting. With temperatures it's going to be measurements for the previous 12 months and aggregated statistics for the previous 10 years. The date is also normalized and concatenated to the rest of the features. The targets are the minimum and the maximum temperatures for the specified date."
      ],
      "metadata": {
        "id": "QE6CC-slPY7f"
      }
    },
    {
      "cell_type": "code",
      "source": [
        "def get_data_for_month(year, month):\n",
        "    '''Gets temperature data, date data and targets.'''\n",
        "    y = get_min_max(year, month)\n",
        "    \n",
        "    last_12_month = get_last_12_month_temp(year, month)\n",
        "    last_10_year = get_last_10_year_temp(year)\n",
        "    month_year = get_month_year(year, month)\n",
        "    x = np.concatenate((last_12_month, last_10_year, month_year))\n",
        "\n",
        "    return x, y\n",
        "\n",
        "splits = get_splits(get_data_for_month)"
      ],
      "metadata": {
        "id": "hKchktviOSZ0",
        "colab": {
          "base_uri": "https://localhost:8080/"
        },
        "outputId": "ae4bda63-6c39-4249-a43a-88994e92c313"
      },
      "execution_count": null,
      "outputs": [
        {
          "output_type": "stream",
          "name": "stdout",
          "text": [
            "((179, 66), (179, 2)) ((1, 66), (1, 2))\n",
            "False\n"
          ]
        }
      ]
    },
    {
      "cell_type": "markdown",
      "source": [
        "For training both Lasso and Ridge linear regressions are used. To find the best hyperparameters each model is run using three types of scaling (none, only features, features and targets) and with a range of a norm coefficient (alpha)."
      ],
      "metadata": {
        "id": "mEF3BRXAO8jY"
      }
    },
    {
      "cell_type": "code",
      "source": [
        "train_linear(splits)"
      ],
      "metadata": {
        "colab": {
          "base_uri": "https://localhost:8080/"
        },
        "id": "aTVfhDpXFk6j",
        "outputId": "fd61b7be-c331-4c76-8a3b-1099a67d167d"
      },
      "execution_count": null,
      "outputs": [
        {
          "output_type": "stream",
          "name": "stdout",
          "text": [
            "Without scaling the data\n",
            "  Best for Lasso: alpha=0.01, rmse=0.834\n",
            "  Best for Ridge: alpha=1, rmse=0.869\n",
            "\n",
            "With scaling only the features (not the targets)\n",
            "  Best for Lasso: alpha=0.1, rmse=0.897\n",
            "  Best for Ridge: alpha=10, rmse=0.913\n",
            "\n",
            "With scaling all the data\n",
            "  Best for Lasso: alpha=0.01, rmse=0.916\n",
            "  Best for Ridge: alpha=10, rmse=0.913\n"
          ]
        }
      ]
    },
    {
      "cell_type": "code",
      "source": [
        "splits[-1][0][1][:, 0].std(), splits[-1][0][1][:, 1].std()"
      ],
      "metadata": {
        "colab": {
          "base_uri": "https://localhost:8080/"
        },
        "id": "aOw8sv1RQ4Sg",
        "outputId": "eff4b698-afcc-49a7-f2ce-428d57d77405"
      },
      "execution_count": null,
      "outputs": [
        {
          "output_type": "execute_result",
          "data": {
            "text/plain": [
              "(3.2256008909899925, 4.530925675336345)"
            ]
          },
          "metadata": {},
          "execution_count": 68
        }
      ]
    },
    {
      "cell_type": "markdown",
      "source": [
        "Training linear models we get cross-validation RMSE of 0.834. This result is good considering that the standard errors for minimum and maximum temperatures are 3.226 and 4.531 respectively.\n",
        "\n",
        "Since we trained a Lasso model, we can look at what features have zero coefficients in order to see, which ones had an impact."
      ],
      "metadata": {
        "id": "6ZV5BhJ9RUoc"
      }
    },
    {
      "cell_type": "code",
      "source": [
        "model = train_lasso(splits, 0.01)\n",
        "nonzero_last_12_months = (model.coef_[:, :24] != 0.0).sum()\n",
        "nonzero_last_10_years = (model.coef_[:, 24:64] != 0.0).sum()\n",
        "nonzero_date = (model.coef_[:, 64:66] != 0.0).sum()\n",
        "print(\"Number of nonzero coefs corresponding to features for the last 12 months:\", nonzero_last_12_months, nonzero_last_12_months / 24 / 2)\n",
        "print(\"Number of nonzero coefs corresponding to features for the last 10 years:\", nonzero_last_10_years, nonzero_last_10_years / 40 / 2)\n",
        "print(\"Number of nonzero coefs corresponding to date features:\", nonzero_date, nonzero_date / 2 / 2)"
      ],
      "metadata": {
        "colab": {
          "base_uri": "https://localhost:8080/"
        },
        "id": "ZW4dZczdNeMw",
        "outputId": "72191f23-f0a5-4ed6-a8f2-628ca5f75f34"
      },
      "execution_count": null,
      "outputs": [
        {
          "output_type": "stream",
          "name": "stdout",
          "text": [
            "RMSE = 0.4799944352181334\n",
            "Number of nonzero coefs corresponding to features for the last 12 months: 21 0.4375\n",
            "Number of nonzero coefs corresponding to features for the last 10 years: 0 0.0\n",
            "Number of nonzero coefs corresponding to date features: 4 1.0\n"
          ]
        }
      ]
    },
    {
      "cell_type": "code",
      "source": [
        "model.coef_[0, :24].reshape(-1, 2), model.coef_[0, 64:]"
      ],
      "metadata": {
        "colab": {
          "base_uri": "https://localhost:8080/"
        },
        "id": "fWjyLV5FZzR9",
        "outputId": "a460c20f-effd-41da-b0f3-ea004eeaff27"
      },
      "execution_count": null,
      "outputs": [
        {
          "output_type": "execute_result",
          "data": {
            "text/plain": [
              "(array([[ 0.        ,  2.24578556],\n",
              "        [ 0.        ,  1.56636783],\n",
              "        [ 0.        ,  2.50288087],\n",
              "        [ 0.        ,  0.        ],\n",
              "        [-0.        , -0.56131628],\n",
              "        [-0.        , -0.        ],\n",
              "        [-0.        , -2.74482348],\n",
              "        [-0.34902388, -0.88817658],\n",
              "        [-0.        , -1.53408079],\n",
              "        [-0.        , -0.        ],\n",
              "        [ 0.        ,  0.        ],\n",
              "        [ 0.19946357,  7.54252611]]), array([-0.84504575,  0.14975655]))"
            ]
          },
          "metadata": {},
          "execution_count": 78
        }
      ]
    },
    {
      "cell_type": "markdown",
      "source": [
        "As expected all the date features and half of the temperatures from the previous 12 months were used. However, surprisingly, the yearly statistics seem to be not useful. This might be explained by the usage of the date features since yearly statistics might be explained just by the linear trend we saw in EDA.\n",
        "\n",
        "To check that let's look at the correlation matrix (the first 24 features are monthly temperatures, the next 40 are yearly statistics, the last 4 are date features and the targets). "
      ],
      "metadata": {
        "id": "SDVtJyj5Sscr"
      }
    },
    {
      "cell_type": "code",
      "source": [
        "show_corr(np.concatenate((splits[0][0][0], splits[0][0][1]), axis=1))"
      ],
      "metadata": {
        "colab": {
          "base_uri": "https://localhost:8080/",
          "height": 381
        },
        "id": "9v029kAJQZ43",
        "outputId": "4f6b4610-4435-4643-f64e-4f47654fae55"
      },
      "execution_count": null,
      "outputs": [
        {
          "output_type": "display_data",
          "data": {
            "text/plain": [
              "<Figure size 432x432 with 2 Axes>"
            ],
            "image/png": "[encoded data removed]"
          },
          "metadata": {
            "needs_background": "light"
          }
        }
      ]
    },
    {
      "cell_type": "markdown",
      "source": [
        "From this we can see that normalized year correlates with yearly statistics and normalized month correlates with monthly temperatures. There is also a lot of correlation between the two large groups of features: monthly and yearly.\n",
        "\n",
        "This kind of correlation might negatively affect linear model even with regularization. To see if it is the case, we are going to train two other types of models: gradient boosting model and random forest."
      ],
      "metadata": {
        "id": "g9nM2iU4Xmqn"
      }
    },
    {
      "cell_type": "markdown",
      "source": [
        "Note: both gradient boosting models and random forests take a lot of time to run. Because of that only different amounts of estimators and values of learning rate tried in the hyperparameter search in order to decrease runtime."
      ],
      "metadata": {
        "id": "lzJZRgVQRfx7"
      }
    },
    {
      "cell_type": "code",
      "source": [
        "train_boosting(splits)"
      ],
      "metadata": {
        "id": "_pTC9lG42lUd",
        "colab": {
          "base_uri": "https://localhost:8080/"
        },
        "outputId": "836d8034-7c06-412b-a414-9de606120fef"
      },
      "execution_count": null,
      "outputs": [
        {
          "output_type": "stream",
          "name": "stdout",
          "text": [
            " Learning rate=0.05, estimators=80, rmse=0.917\n"
          ]
        }
      ]
    },
    {
      "cell_type": "code",
      "source": [
        "train_forest(splits)"
      ],
      "metadata": {
        "id": "LC41_0jY2lDe",
        "colab": {
          "base_uri": "https://localhost:8080/"
        },
        "outputId": "b09acd1c-4bf1-4d2f-9c17-9cfd5699348b"
      },
      "execution_count": null,
      "outputs": [
        {
          "output_type": "stream",
          "name": "stdout",
          "text": [
            " Estimators=300, rmse=0.920\n"
          ]
        }
      ]
    },
    {
      "cell_type": "markdown",
      "source": [
        "Both of those models performed worse than linear models. This indicated that multicollinearity was not a problem.\n",
        "\n",
        "Another benefit of training a random forest is that we can compare the feature importance for this model versus linear."
      ],
      "metadata": {
        "id": "7nOLv64jZRHT"
      }
    },
    {
      "cell_type": "code",
      "source": [
        "((X_train, y_train), (X_test, y_test)) = splits[-1]\n",
        "model = MultiOutputRegressor(RandomForestRegressor(n_estimators=300))\n",
        "model = model.fit(X_train, y_train)\n",
        "print(f\"RMSE = {rmse(model.predict(X_test), y_test):.2}\")\n",
        "\n",
        "show_forest_importance(model)"
      ],
      "metadata": {
        "colab": {
          "base_uri": "https://localhost:8080/",
          "height": 306
        },
        "id": "s7pn7YDGnTkn",
        "outputId": "e89f8a42-3ff0-43b8-bf8b-c12e04d41365"
      },
      "execution_count": null,
      "outputs": [
        {
          "output_type": "stream",
          "name": "stdout",
          "text": [
            "RMSE = 0.81\n"
          ]
        },
        {
          "output_type": "display_data",
          "data": {
            "text/plain": [
              "<Figure size 1152x288 with 1 Axes>"
            ],
            "image/png": "[encoded data removed]"
          },
          "metadata": {
            "needs_background": "light"
          }
        }
      ]
    },
    {
      "cell_type": "markdown",
      "source": [
        "The results are similar to the linear model. The important features are dates and monthly temperatures. The random forest also shows that the most important features are temperatures in summer and winter and current month."
      ],
      "metadata": {
        "id": "sLtuS-k_Zox1"
      }
    },
    {
      "cell_type": "markdown",
      "source": [
        "| Model      | RMSE |\n",
        "| ----------- | ----------- |\n",
        "| Ridge      | 0.869       |\n",
        "| Lasso   | 0.843       |\n",
        "| Gradient Boosting   | 0.917       |\n",
        "| Random Forest   | 0.920       |"
      ],
      "metadata": {
        "id": "quJhyW8RWM2D"
      }
    },
    {
      "cell_type": "markdown",
      "source": [
        "## Modeling using only Australia's industry data"
      ],
      "metadata": {
        "id": "74LZqqMf5l4n"
      }
    },
    {
      "cell_type": "markdown",
      "source": [
        "Now we are going to try predicting temperatures using only the date and the industry data. Just as before, we are going to aggregate the 4 economic charateristics (normalized to be a percent of the maximum value) by year and use the previous 10 years."
      ],
      "metadata": {
        "id": "RrVSlEpga5aO"
      }
    },
    {
      "cell_type": "code",
      "source": [
        "def get_data_for_month(year, month):\n",
        "    '''Gets Australia's worldbank data, date data and targets.'''\n",
        "    y = get_min_max(year, month)\n",
        "\n",
        "    last_10_year = get_last_10_year_wb_aus(year)\n",
        "    month_year = get_month_year(year, month)\n",
        "    x = np.concatenate((last_10_year, month_year))\n",
        "\n",
        "    return x, y\n",
        "\n",
        "splits = get_splits(get_data_for_month)"
      ],
      "metadata": {
        "id": "wSffW6TJjCtH",
        "colab": {
          "base_uri": "https://localhost:8080/"
        },
        "outputId": "d932e586-b203-4677-eda9-c4a0f935e1db"
      },
      "execution_count": null,
      "outputs": [
        {
          "output_type": "stream",
          "name": "stdout",
          "text": [
            "((179, 42), (179, 2)) ((1, 42), (1, 2))\n",
            "False\n"
          ]
        }
      ]
    },
    {
      "cell_type": "code",
      "source": [
        "train_linear(splits)"
      ],
      "metadata": {
        "colab": {
          "base_uri": "https://localhost:8080/"
        },
        "id": "0ez0zGSQ-E1q",
        "outputId": "2ec7c623-be30-4b74-ba39-576934429c29"
      },
      "execution_count": null,
      "outputs": [
        {
          "output_type": "stream",
          "name": "stdout",
          "text": [
            "Without scaling the data\n",
            "  Best for Lasso: alpha=0.1, rmse=3.376\n",
            "  Best for Ridge: alpha=10, rmse=3.425\n",
            "\n",
            "With scaling only the features (not the targets)\n",
            "  Best for Lasso: alpha=0.5, rmse=3.399\n",
            "  Best for Ridge: alpha=100, rmse=3.615\n",
            "\n",
            "With scaling all the data\n",
            "  Best for Lasso: alpha=0.1, rmse=3.394\n",
            "  Best for Ridge: alpha=100, rmse=3.615\n"
          ]
        }
      ]
    },
    {
      "cell_type": "code",
      "source": [
        "splits[-1][0][1][:, 0].std(), splits[-1][0][1][:, 1].std()"
      ],
      "metadata": {
        "colab": {
          "base_uri": "https://localhost:8080/"
        },
        "id": "mcAdTJe9ctcq",
        "outputId": "4022a91e-c11b-4346-9b3a-b8ff94abbd3e"
      },
      "execution_count": null,
      "outputs": [
        {
          "output_type": "execute_result",
          "data": {
            "text/plain": [
              "(3.2256008909899925, 4.530925675336345)"
            ]
          },
          "metadata": {},
          "execution_count": 90
        }
      ]
    },
    {
      "cell_type": "markdown",
      "source": [
        "Compared to the previous models, these linear models do not perform well (they are close to being equal in performance to predicting mean value)."
      ],
      "metadata": {
        "id": "WjpxJaVEcUBC"
      }
    },
    {
      "cell_type": "code",
      "source": [
        "model = train_lasso(splits, 0.1)\n",
        "nonzero_last_10_years = (model.coef_[:, :40] != 0.0).sum()\n",
        "nonzero_date = (model.coef_[:, 40:42] != 0.0).sum()\n",
        "print(\"Number of nonzero coefs corresponding to features for the last 10 years:\", nonzero_last_10_years, nonzero_last_10_years / 40 / 2)\n",
        "print(\"Number of nonzero coefs corresponding to date features:\", nonzero_date, nonzero_date / 2 / 2)"
      ],
      "metadata": {
        "colab": {
          "base_uri": "https://localhost:8080/"
        },
        "id": "j16SUteeBqat",
        "outputId": "5faacd8c-1d9a-47a8-ce97-6da3e2839c8a"
      },
      "execution_count": null,
      "outputs": [
        {
          "output_type": "stream",
          "name": "stdout",
          "text": [
            "RMSE = 5.40846649217537\n",
            "Number of nonzero coefs corresponding to features for the last 10 years: 0 0.0\n",
            "Number of nonzero coefs corresponding to date features: 2 0.5\n"
          ]
        }
      ]
    },
    {
      "cell_type": "markdown",
      "source": [
        "Looking at the features that didn't turn into 0 during training, we can see that Lasso only used the date features. This shows that the effect from economic characteristics is not linear.\n",
        "\n",
        "Now let's see if other models can exploit the interaction."
      ],
      "metadata": {
        "id": "klpi7jRZclYI"
      }
    },
    {
      "cell_type": "code",
      "source": [
        "train_boosting(splits)"
      ],
      "metadata": {
        "colab": {
          "base_uri": "https://localhost:8080/"
        },
        "id": "sDhEVcQhCoHh",
        "outputId": "91e33f27-c768-4220-92c5-89d57ca3aa8b"
      },
      "execution_count": null,
      "outputs": [
        {
          "output_type": "stream",
          "name": "stdout",
          "text": [
            " Learning rate=0.05, estimators=80, rmse=0.770\n"
          ]
        }
      ]
    },
    {
      "cell_type": "code",
      "source": [
        "train_forest(splits)"
      ],
      "metadata": {
        "colab": {
          "base_uri": "https://localhost:8080/"
        },
        "id": "sjlbPs30DFgd",
        "outputId": "f68c0572-43f2-415e-87d1-123c1dc61700"
      },
      "execution_count": null,
      "outputs": [
        {
          "output_type": "stream",
          "name": "stdout",
          "text": [
            " Estimators=100, rmse=0.838\n"
          ]
        }
      ]
    },
    {
      "cell_type": "code",
      "source": [
        "train_and_show_forest(splits, 100)"
      ],
      "metadata": {
        "colab": {
          "base_uri": "https://localhost:8080/",
          "height": 306
        },
        "id": "atCLZF1bES0Z",
        "outputId": "0477cfb0-7253-4373-aae7-6b4fdc8e753c"
      },
      "execution_count": null,
      "outputs": [
        {
          "output_type": "stream",
          "name": "stdout",
          "text": [
            "RMSE = 0.62\n"
          ]
        },
        {
          "output_type": "display_data",
          "data": {
            "text/plain": [
              "<Figure size 1152x288 with 1 Axes>"
            ],
            "image/png": "[encoded data removed]"
          },
          "metadata": {
            "needs_background": "light"
          }
        }
      ]
    },
    {
      "cell_type": "markdown",
      "source": [
        "In this case, we again see that the economic characteristics almost do not contribute to the final prediction. However, the performance of the gradient boosting model is the best so far, which is surprising considerting that the model does not have access to histrorical temperatures during prediction."
      ],
      "metadata": {
        "id": "Md8do5DleytK"
      }
    },
    {
      "cell_type": "markdown",
      "source": [
        "| Model      | RMSE |\n",
        "| ----------- | ----------- |\n",
        "| Ridge      | 3.425       |\n",
        "| Lasso   | 3.376      |\n",
        "| Boosting   | 0.770       |\n",
        "| Random Forest   | 0.838       |"
      ],
      "metadata": {
        "id": "nQJeOgomEbLx"
      }
    },
    {
      "cell_type": "markdown",
      "source": [
        "## Modeling using only not Australia's data"
      ],
      "metadata": {
        "id": "9n5rNYkp6uUz"
      }
    },
    {
      "cell_type": "markdown",
      "source": [
        "Now let's try what performance is achievable using the economic data from other countries and date."
      ],
      "metadata": {
        "id": "1-8gvnP3xNBd"
      }
    },
    {
      "cell_type": "code",
      "source": [
        "def get_data_for_month(year, month):\n",
        "    '''Gets all worldbank data except for Australia, date data and targets.'''\n",
        "    y = get_min_max(year, month)\n",
        "\n",
        "    last_10_year = get_last_10_year_wb_wo_aus(year)\n",
        "    month_year = get_month_year(year, month)\n",
        "    x = np.concatenate((last_10_year, month_year))\n",
        "\n",
        "    return x, y\n",
        "\n",
        "splits = get_splits(get_data_for_month)"
      ],
      "metadata": {
        "id": "dSF9QUz26tsj",
        "colab": {
          "base_uri": "https://localhost:8080/"
        },
        "outputId": "eeba97e0-72bc-4feb-d06a-6c6ab6dbd8cc"
      },
      "execution_count": null,
      "outputs": [
        {
          "output_type": "stream",
          "name": "stdout",
          "text": [
            "((179, 242), (179, 2)) ((1, 242), (1, 2))\n",
            "False\n"
          ]
        }
      ]
    },
    {
      "cell_type": "code",
      "source": [
        "train_linear(splits)"
      ],
      "metadata": {
        "colab": {
          "base_uri": "https://localhost:8080/"
        },
        "id": "bgt9HPdOfGEF",
        "outputId": "3427af9d-f167-4c01-83c6-97ad123fda9f"
      },
      "execution_count": null,
      "outputs": [
        {
          "output_type": "stream",
          "name": "stdout",
          "text": [
            "Without scaling the data\n",
            "  Best for Lasso: alpha=0.1, rmse=3.376\n",
            "  Best for Ridge: alpha=100, rmse=3.473\n",
            "\n",
            "With scaling only the features (not the targets)\n",
            "  Best for Lasso: alpha=0.5, rmse=3.398\n",
            "  Best for Ridge: alpha=0.0005, rmse=3.667\n",
            "\n",
            "With scaling all the data\n",
            "  Best for Lasso: alpha=0.1, rmse=3.389\n",
            "  Best for Ridge: alpha=0.0005, rmse=3.667\n"
          ]
        }
      ]
    },
    {
      "cell_type": "markdown",
      "source": [
        "Just like with the previous model the linear model is unable to perform well."
      ],
      "metadata": {
        "id": "MYVB7G4-xZQE"
      }
    },
    {
      "cell_type": "code",
      "source": [
        "train_boosting(splits)"
      ],
      "metadata": {
        "colab": {
          "base_uri": "https://localhost:8080/"
        },
        "id": "9_Tx0W_mfNHS",
        "outputId": "b6955930-01b5-43bd-d28d-c19d071ec813"
      },
      "execution_count": null,
      "outputs": [
        {
          "output_type": "stream",
          "name": "stdout",
          "text": [
            " Learning rate=0.05, estimators=80, rmse=0.824\n"
          ]
        }
      ]
    },
    {
      "cell_type": "code",
      "source": [
        "train_forest(splits)"
      ],
      "metadata": {
        "colab": {
          "base_uri": "https://localhost:8080/"
        },
        "id": "Jxzfi5zVHSyd",
        "outputId": "4a265e5e-4d15-46d1-db15-4eb20a84ad9f"
      },
      "execution_count": null,
      "outputs": [
        {
          "output_type": "stream",
          "name": "stdout",
          "text": [
            " Estimators=80, rmse=0.831\n"
          ]
        }
      ]
    },
    {
      "cell_type": "code",
      "source": [
        "train_and_show_forest(splits, 80)"
      ],
      "metadata": {
        "colab": {
          "base_uri": "https://localhost:8080/",
          "height": 306
        },
        "id": "p5rSaxOMIGER",
        "outputId": "81f551ee-09a0-48a4-9250-245e70497382"
      },
      "execution_count": null,
      "outputs": [
        {
          "output_type": "stream",
          "name": "stdout",
          "text": [
            "RMSE = 0.64\n"
          ]
        },
        {
          "output_type": "display_data",
          "data": {
            "text/plain": [
              "<Figure size 1152x288 with 1 Axes>"
            ],
            "image/png": "[encoded data removed]"
          },
          "metadata": {
            "needs_background": "light"
          }
        }
      ]
    },
    {
      "cell_type": "markdown",
      "source": [
        "Overall, the result is very similar to the one in the previous section. The performance is slightly worse, but that is probably due to overfitting to too many features."
      ],
      "metadata": {
        "id": "rXxZasK3JCUc"
      }
    },
    {
      "cell_type": "markdown",
      "source": [
        "| Model      | RMSE |\n",
        "| ----------- | ----------- |\n",
        "| Ridge      | 3.473       |\n",
        "| Lasso   | 3.376      |\n",
        "| Boosting   | 0.824       |\n",
        "| Random Forest   | 0.831       |"
      ],
      "metadata": {
        "id": "BcBsYnUJl2wh"
      }
    },
    {
      "cell_type": "markdown",
      "source": [
        "## Modelling using all data"
      ],
      "metadata": {
        "id": "P87YAPZS5zJD"
      }
    },
    {
      "cell_type": "markdown",
      "source": [
        "Now that we tried using subsections of the data, we are going to try modelling with all available data. This will result in many features and they are probably not that significant given previous experiments, but there is a chance that models might discover new patterns."
      ],
      "metadata": {
        "id": "IhvvvbhcxqMh"
      }
    },
    {
      "cell_type": "code",
      "source": [
        "def get_data_for_month(year, month):\n",
        "    '''Gets all worldbank data, temperature data, date data and targets.'''\n",
        "    y = get_min_max(year, month)\n",
        "\n",
        "    last_12_month = get_last_12_month_temp(year, month)\n",
        "    last_10_year = get_last_10_year_temp(year)\n",
        "    last_10_year_wb = get_last_10_year_wb(year)\n",
        "    month_year = get_month_year(year, month)\n",
        "    x = np.concatenate((last_12_month, last_10_year, last_10_year_wb, month_year))\n",
        "\n",
        "    return x, y\n",
        "\n",
        "splits = get_splits(get_data_for_month)"
      ],
      "metadata": {
        "id": "kv2YflDx51BX",
        "colab": {
          "base_uri": "https://localhost:8080/"
        },
        "outputId": "cbb87716-a886-4c3a-f8f0-45c126437a97"
      },
      "execution_count": null,
      "outputs": [
        {
          "output_type": "stream",
          "name": "stdout",
          "text": [
            "((179, 346), (179, 2)) ((1, 346), (1, 2))\n",
            "False\n"
          ]
        }
      ]
    },
    {
      "cell_type": "code",
      "source": [
        "train_linear(splits)"
      ],
      "metadata": {
        "colab": {
          "base_uri": "https://localhost:8080/"
        },
        "id": "RbYiNzkALnCQ",
        "outputId": "b7e554e3-737b-4676-a1da-51ebbdd164df"
      },
      "execution_count": null,
      "outputs": [
        {
          "output_type": "stream",
          "name": "stdout",
          "text": [
            "Without scaling the data\n",
            "  Best for Lasso: alpha=0.01, rmse=0.852\n",
            "  Best for Ridge: alpha=0.3, rmse=0.918\n",
            "\n",
            "With scaling only the features (not the targets)\n",
            "  Best for Lasso: alpha=0.1, rmse=0.908\n",
            "  Best for Ridge: alpha=10, rmse=0.937\n",
            "\n",
            "With scaling all the data\n",
            "  Best for Lasso: alpha=0.05, rmse=0.924\n",
            "  Best for Ridge: alpha=10, rmse=0.937\n"
          ]
        }
      ]
    },
    {
      "cell_type": "code",
      "source": [
        "train_boosting(splits)"
      ],
      "metadata": {
        "colab": {
          "base_uri": "https://localhost:8080/"
        },
        "id": "I6BzpVccfSf3",
        "outputId": "48a0e0bf-cd90-4c7c-c9f5-df6b30cf2cec"
      },
      "execution_count": null,
      "outputs": [
        {
          "output_type": "stream",
          "name": "stdout",
          "text": [
            " Learning rate=0.1, estimators=50, rmse=0.902\n"
          ]
        }
      ]
    },
    {
      "cell_type": "code",
      "source": [
        "train_forest(splits)"
      ],
      "metadata": {
        "id": "JVdLWA22L-5l",
        "colab": {
          "base_uri": "https://localhost:8080/"
        },
        "outputId": "b73dad9a-2925-40e6-a8a5-82392f502ae5"
      },
      "execution_count": null,
      "outputs": [
        {
          "output_type": "stream",
          "name": "stdout",
          "text": [
            " Estimators=500, rmse=0.925\n"
          ]
        }
      ]
    },
    {
      "cell_type": "code",
      "source": [
        "train_and_show_forest(splits, 500)"
      ],
      "metadata": {
        "colab": {
          "base_uri": "https://localhost:8080/",
          "height": 306
        },
        "id": "b7RgsLdyMCUQ",
        "outputId": "cd2c229e-3a66-403f-80ce-06e76e313eb8"
      },
      "execution_count": null,
      "outputs": [
        {
          "output_type": "stream",
          "name": "stdout",
          "text": [
            "RMSE = 0.78\n"
          ]
        },
        {
          "output_type": "display_data",
          "data": {
            "text/plain": [
              "<Figure size 1152x288 with 1 Axes>"
            ],
            "image/png": "[encoded data removed]"
          },
          "metadata": {
            "needs_background": "light"
          }
        }
      ]
    },
    {
      "cell_type": "markdown",
      "source": [
        "In this case, the models seems to be exploting only monthly temperatures and date. The performance in general is still worse when using only Australia's economic characteristics. This is probably due to having too many features compared to the size of training data."
      ],
      "metadata": {
        "id": "-3_0GAV8yDqc"
      }
    },
    {
      "cell_type": "markdown",
      "source": [
        "| Model      | RMSE |\n",
        "| ----------- | ----------- |\n",
        "| Ridge      | 0.918       |\n",
        "| Lasso   | 0.852      |\n",
        "| Boosting   | 0.902       |\n",
        "| Random Forest   | 0.925     |"
      ],
      "metadata": {
        "id": "RnLYsQzHmCUK"
      }
    },
    {
      "cell_type": "markdown",
      "source": [
        "## Modeling using only dates"
      ],
      "metadata": {
        "id": "TgZQK27gL_na"
      }
    },
    {
      "cell_type": "markdown",
      "source": [
        "From the previous experiments, we can see that the date is one of the most significant features and it's not clear how much other features help. To test this out we are going to train models using only dates."
      ],
      "metadata": {
        "id": "lm2z5iYlyosR"
      }
    },
    {
      "cell_type": "code",
      "source": [
        "def get_data_for_month(year, month):\n",
        "    '''Gets date data and targets.'''\n",
        "    y = get_min_max(year, month)\n",
        "    x = np.array(get_month_year(year, month))\n",
        "    return x, y\n",
        "\n",
        "splits = get_splits(get_data_for_month)"
      ],
      "metadata": {
        "id": "LlIKk45JQOkB",
        "colab": {
          "base_uri": "https://localhost:8080/"
        },
        "outputId": "0f92f379-7851-4482-f616-b45d83b39b9a"
      },
      "execution_count": null,
      "outputs": [
        {
          "output_type": "stream",
          "name": "stdout",
          "text": [
            "((179, 2), (179, 2)) ((1, 2), (1, 2))\n",
            "False\n"
          ]
        }
      ]
    },
    {
      "cell_type": "code",
      "source": [
        "train_linear(splits)"
      ],
      "metadata": {
        "colab": {
          "base_uri": "https://localhost:8080/"
        },
        "id": "SwgRAfQxu8yg",
        "outputId": "8b6dd5af-2fea-454b-cb93-da8cb5583823"
      },
      "execution_count": null,
      "outputs": [
        {
          "output_type": "stream",
          "name": "stdout",
          "text": [
            "Without scaling the data\n",
            "  Best for Lasso: alpha=0.1, rmse=3.376\n",
            "  Best for Ridge: alpha=0.0005, rmse=3.388\n",
            "\n",
            "With scaling only the features (not the targets)\n",
            "  Best for Lasso: alpha=0.3, rmse=3.376\n",
            "  Best for Ridge: alpha=0.0005, rmse=3.388\n",
            "\n",
            "With scaling all the data\n",
            "  Best for Lasso: alpha=0.05, rmse=3.376\n",
            "  Best for Ridge: alpha=0.0005, rmse=3.388\n"
          ]
        }
      ]
    },
    {
      "cell_type": "code",
      "source": [
        "train_boosting(splits)"
      ],
      "metadata": {
        "colab": {
          "base_uri": "https://localhost:8080/"
        },
        "id": "-LFz6o6au-8F",
        "outputId": "50f13d1a-7136-4956-982b-0ad70a9b0ebe"
      },
      "execution_count": null,
      "outputs": [
        {
          "output_type": "stream",
          "name": "stdout",
          "text": [
            " Learning rate=0.1, estimators=50, rmse=0.802\n"
          ]
        }
      ]
    },
    {
      "cell_type": "code",
      "source": [
        "train_forest(splits)"
      ],
      "metadata": {
        "colab": {
          "base_uri": "https://localhost:8080/"
        },
        "id": "FztN4qh7QhAs",
        "outputId": "a56cd4fc-d4b5-4d35-d7bd-70190e1b4d5e"
      },
      "execution_count": null,
      "outputs": [
        {
          "output_type": "stream",
          "name": "stdout",
          "text": [
            " Estimators=80, rmse=0.916\n"
          ]
        }
      ]
    },
    {
      "cell_type": "code",
      "source": [
        "train_and_show_forest(splits, 80)"
      ],
      "metadata": {
        "colab": {
          "base_uri": "https://localhost:8080/",
          "height": 306
        },
        "id": "w2FQ3EIeRLik",
        "outputId": "dd193e63-6fa4-4932-db13-3d9aecf30084"
      },
      "execution_count": null,
      "outputs": [
        {
          "output_type": "stream",
          "name": "stdout",
          "text": [
            "RMSE = 0.64\n"
          ]
        },
        {
          "output_type": "display_data",
          "data": {
            "text/plain": [
              "<Figure size 1152x288 with 1 Axes>"
            ],
            "image/png": "[encoded data removed]"
          },
          "metadata": {
            "needs_background": "light"
          }
        }
      ]
    },
    {
      "cell_type": "markdown",
      "source": [
        "As expected from the previous experiments models using only dates perform well (except for linear models since the relation is not linear). However, these models still perform worse than the ones also using Australia's industry data. "
      ],
      "metadata": {
        "id": "XPi2ILimy0IQ"
      }
    },
    {
      "cell_type": "markdown",
      "source": [
        "| Model      | RMSE |\n",
        "| ----------- | ----------- |\n",
        "| Ridge      | 3.388       |\n",
        "| Lasso   | 3.376      |\n",
        "| Boosting   | 0.802       |\n",
        "| Random Forest   | 0.916     |"
      ],
      "metadata": {
        "id": "6CLH7GpkvjZJ"
      }
    },
    {
      "cell_type": "markdown",
      "source": [
        "| Data      | Model | RMSE |\n",
        "| ----------- | ----------- |-|\n",
        "| Temperature+Date   | Lasso   | 0.843       |\n",
        "| AusInd+Date  | Boosting | 0.770      |\n",
        "| OtherInd+Date  | Boosting | 0.852       |\n",
        "| All+Date   | Lasso | 0.852     |\n",
        "| Date| Boosting | 0.802 |"
      ],
      "metadata": {
        "id": "nTTnfPx5v78a"
      }
    },
    {
      "cell_type": "markdown",
      "source": [
        "## Random kitchen sinks"
      ],
      "metadata": {
        "id": "yDvBUmtWHvaR"
      }
    },
    {
      "cell_type": "markdown",
      "source": [
        "In this section we are going to try some feature engineering to improve performance of linear models using only dates. Since dates and temperatures do not have a linear relationship, we need to come up with ways to combine the features to reveal the linear relationship. This is requires specialized work with data and understanding of the domain. Another method is Random Kitchen Sinks, which allows to generate random combinations of features with a high chance of getting 'good' composite features.\n",
        "\n",
        "Note: RKS is a simple method utilizing knowledge from kernel methods. The basic idea is that we can linearly combine features with weights sampled from a Fourier's transform of a kernel and pass them through a Euler's identity (sin and cos) to get an effect similar to a kernel trick. If the number of features generated is large, we are closer to a kernel method. However, only a few are needed to be generated to get a good performance. It works best with 'linear' methods."
      ],
      "metadata": {
        "id": "IGWuUE-7zlfw"
      }
    },
    {
      "cell_type": "code",
      "source": [
        "def get_data_for_month(year, month):\n",
        "    '''Gets aggregate date data and targets.'''\n",
        "    y = get_min_max(year, month)\n",
        "\n",
        "    month_year = get_month_year(year, month)\n",
        "    x = np.array(month_year)\n",
        "\n",
        "    return x, y\n",
        "\n",
        "splits = get_splits(get_data_for_month)"
      ],
      "metadata": {
        "colab": {
          "base_uri": "https://localhost:8080/"
        },
        "id": "I-6yYNWkzlIt",
        "outputId": "010ed5ba-2250-478e-8679-5c7ca765a487"
      },
      "execution_count": null,
      "outputs": [
        {
          "output_type": "stream",
          "name": "stdout",
          "text": [
            "((179, 2), (179, 2)) ((1, 2), (1, 2))\n",
            "False\n"
          ]
        }
      ]
    },
    {
      "cell_type": "code",
      "source": [
        "def rks(X, w, b):\n",
        "    '''Computes random kitchen sinks (exp(i*W*x)) given coefficients\n",
        "    \n",
        "    References and explanations from:\n",
        "        https://people.eecs.berkeley.edu/~brecht/kitchensinks.html\n",
        "        https://www.stat.cmu.edu/~cshalizi/sml/21/lectures/22/lecture-22.html#(1)\n",
        "        https://people.eecs.berkeley.edu/~brecht/papers/08.rah.rec.nips.pdf\n",
        "    '''\n",
        "    cos = np.cos(X @ w.T + b)\n",
        "    sin = np.sin(X @ w.T + b)\n",
        "    result = np.concatenate((cos, sin), axis=1)\n",
        "    return result\n",
        "\n",
        "\n",
        "k = 19\n",
        "w = np.random.randn(k, 2)\n",
        "b = np.random.uniform(low=-np.pi, high=np.pi, size=(k,))\n",
        "rks_splits = []\n",
        "for ((X_train, y_train), (X_test, y_test)) in splits:\n",
        "    rks_splits.append((\n",
        "        (np.concatenate((X_train, rks(X_train[:, -2:], w, b)), axis=1), y_train),\n",
        "        (np.concatenate((X_test, rks(X_test[:, -2:], w, b)), axis=1), y_test)\n",
        "    ))"
      ],
      "metadata": {
        "id": "vnSo1srL1vQ0"
      },
      "execution_count": null,
      "outputs": []
    },
    {
      "cell_type": "code",
      "source": [
        "train_linear(rks_splits)"
      ],
      "metadata": {
        "colab": {
          "base_uri": "https://localhost:8080/"
        },
        "id": "kJSuirt0ka5m",
        "outputId": "4999814d-2278-44e3-a06c-e75fe2ebf1fc"
      },
      "execution_count": null,
      "outputs": [
        {
          "output_type": "stream",
          "name": "stdout",
          "text": [
            "Without scaling the data\n",
            "  Best for Lasso: alpha=0.0005, rmse=1.007\n",
            "  Best for Ridge: alpha=0.001, rmse=0.961\n",
            "\n",
            "With scaling only the features (not the targets)\n",
            "  Best for Lasso: alpha=0.0005, rmse=0.938\n",
            "  Best for Ridge: alpha=0.01, rmse=0.943\n",
            "\n",
            "With scaling all the data\n",
            "  Best for Lasso: alpha=0.0005, rmse=1.025\n",
            "  Best for Ridge: alpha=0.01, rmse=0.943\n"
          ]
        }
      ]
    },
    {
      "cell_type": "code",
      "source": [
        "train_boosting(rks_splits)"
      ],
      "metadata": {
        "colab": {
          "base_uri": "https://localhost:8080/"
        },
        "id": "b5NCzUvl7RBj",
        "outputId": "4e8f40b2-f0c7-4466-a96e-beef795ef03f"
      },
      "execution_count": null,
      "outputs": [
        {
          "output_type": "stream",
          "name": "stdout",
          "text": [
            " Learning rate=0.05, estimators=80, rmse=1.035\n"
          ]
        }
      ]
    },
    {
      "cell_type": "code",
      "source": [
        "train_forest(rks_splits)"
      ],
      "metadata": {
        "colab": {
          "base_uri": "https://localhost:8080/"
        },
        "id": "yARN9Y7hyZC7",
        "outputId": "bde0a375-5809-4572-e986-eb0fd8a2a428"
      },
      "execution_count": null,
      "outputs": [
        {
          "output_type": "stream",
          "name": "stdout",
          "text": [
            " Estimators=100, rmse=1.013\n"
          ]
        }
      ]
    },
    {
      "cell_type": "code",
      "source": [
        "train_and_show_forest(rks_splits, 100)"
      ],
      "metadata": {
        "colab": {
          "base_uri": "https://localhost:8080/",
          "height": 306
        },
        "id": "esaRskxd3LOI",
        "outputId": "047d285e-7346-48cd-fd09-da89c20ad30d"
      },
      "execution_count": null,
      "outputs": [
        {
          "output_type": "stream",
          "name": "stdout",
          "text": [
            "RMSE = 0.55\n"
          ]
        },
        {
          "output_type": "display_data",
          "data": {
            "text/plain": [
              "<Figure size 1152x288 with 1 Axes>"
            ],
            "image/png": "[encoded data removed]"
          },
          "metadata": {
            "needs_background": "light"
          }
        }
      ]
    },
    {
      "cell_type": "markdown",
      "source": [
        "We can see the performance of linear models increases dramatically. However, RMSE scores for the other 2 models decrease, which is to be expected considering that they do not have problems with modelling nonlinear relationships and additional features usually decrease performance due to overfitting."
      ],
      "metadata": {
        "id": "eMBEELoLW_HN"
      }
    },
    {
      "cell_type": "markdown",
      "source": [
        "| Model      | RMSE |\n",
        "| ----------- | ----------- |\n",
        "| Ridge      | 0.943       |\n",
        "| Lasso   | 0.938      |\n",
        "| Boosting   | 1.035      |\n",
        "| Random Forest   | 1.013    |"
      ],
      "metadata": {
        "id": "pLv3kEEBVBmB"
      }
    },
    {
      "cell_type": "markdown",
      "source": [
        "## Final hyperparameter optimisation"
      ],
      "metadata": {
        "id": "2SntIO9FLqQS"
      }
    },
    {
      "cell_type": "markdown",
      "source": [
        "With all the modelling done, we are going to do more thorough hyperparameter optimization for the best model, which is a Gradient Boosting model on dates and Australia's economic data."
      ],
      "metadata": {
        "id": "ISPQDC5uXXHr"
      }
    },
    {
      "cell_type": "code",
      "source": [
        "def get_data_for_month(year, month):\n",
        "    '''Gets Australia's worldbank data, date data and targets.'''\n",
        "    y = get_min_max(year, month)\n",
        "\n",
        "    last_10_year = get_last_10_year_wb_aus(year)\n",
        "    month_year = get_month_year(year, month)\n",
        "    x = np.concatenate((last_10_year, month_year))\n",
        "\n",
        "    return x, y\n",
        "\n",
        "splits = get_splits(get_data_for_month)"
      ],
      "metadata": {
        "colab": {
          "base_uri": "https://localhost:8080/"
        },
        "id": "gVf0y-FvHKi6",
        "outputId": "be1e6ae5-a13e-4ec8-a74b-a6c0a91b9be1"
      },
      "execution_count": null,
      "outputs": [
        {
          "output_type": "stream",
          "name": "stdout",
          "text": [
            "((179, 42), (179, 2)) ((1, 42), (1, 2))\n",
            "False\n"
          ]
        }
      ]
    },
    {
      "cell_type": "code",
      "source": [
        "best = (float(\"inf\"), None, None, None)\n",
        "for lr in (0.3, 0.1, 0.08, 0.05, 0.03, 0.01, 0.007):\n",
        "    print(lr)\n",
        "    for n_est in (100, 90, 80, 70):\n",
        "        for max_depth in (3, 4, 5):\n",
        "            mean_rmse = 0\n",
        "            for ((X_train, y_train), (X_test, y_test)) in splits:\n",
        "                model = MultiOutputRegressor(\n",
        "                    GradientBoostingRegressor(learning_rate=lr, n_estimators=n_est, max_depth=max_depth)\n",
        "                )\n",
        "                model = model.fit(X_train, y_train)\n",
        "                mean_rmse += rmse(model.predict(X_test), y_test)\n",
        "            mean_rmse /= len(splits)\n",
        "            if mean_rmse < best[0]:\n",
        "                best = (mean_rmse, lr, n_est, max_depth)\n",
        "                print(best)\n",
        "print(f\" Learning rate={best[1]}, estimators={best[2]}, max depth={best[3]} rmse={best[0]:.3f}\")"
      ],
      "metadata": {
        "colab": {
          "base_uri": "https://localhost:8080/"
        },
        "id": "HpRHFH8xHbZH",
        "outputId": "a2314523-d5bd-4c36-d567-8d2458d1b32d"
      },
      "execution_count": null,
      "outputs": [
        {
          "output_type": "stream",
          "name": "stdout",
          "text": [
            "0.3\n",
            "(0.902916487430672, 0.3, 100, 3)\n",
            "(0.8860891946115792, 0.3, 90, 3)\n",
            "0.1\n",
            "(0.8392052244805235, 0.1, 100, 3)\n",
            "(0.8201723226910628, 0.1, 90, 3)\n",
            "(0.8136960536019654, 0.1, 80, 3)\n",
            "(0.8108469249794397, 0.1, 70, 3)\n",
            "0.08\n",
            "(0.7930762449232067, 0.08, 100, 3)\n",
            "(0.7928347985978018, 0.08, 90, 3)\n",
            "(0.7838355156236883, 0.08, 80, 3)\n",
            "(0.7685034301645731, 0.08, 70, 3)\n",
            "0.05\n",
            "(0.7662460819225149, 0.05, 80, 3)\n",
            "0.03\n",
            "0.01\n",
            "0.007\n",
            " Learning rate=0.05, estimators=80, max depth=3 rmse=0.766\n"
          ]
        }
      ]
    },
    {
      "cell_type": "markdown",
      "source": [
        "This time we got unlucky and the hyperparameters used before already were the best. Due to some randomness during trianing, RMSE decreased but not by much.\n",
        "\n",
        "The final RMSE score is 0.766."
      ],
      "metadata": {
        "id": "YKSP1_BlXmb6"
      }
    },
    {
      "cell_type": "markdown",
      "source": [
        "# Discussions"
      ],
      "metadata": {
        "id": "osGj4rXR6b2i"
      }
    },
    {
      "cell_type": "markdown",
      "source": [
        "In this project we tried to predict future temperatures using historical temperature and economic data. From the experiments it can be concluded that much of the prediction in the short range can be made using only the current year and date. The best results for each training data configuration are shown below."
      ],
      "metadata": {
        "id": "YUIB4NpPSoWC"
      }
    },
    {
      "cell_type": "markdown",
      "source": [
        "| Data      | Model | RMSE |\n",
        "| ----------- | ----------- |-|\n",
        "| Aus. Ind. + Date  | Boosting | 0.766      |\n",
        "| Date | Boosting | 0.802 |\n",
        "| Temperature + Date   | Lasso   | 0.843       |\n",
        "| Other Ind. + Date  | Boosting | 0.852       |\n",
        "| All + Date   | Lasso | 0.852     |"
      ],
      "metadata": {
        "id": "9ryj34dSTAkS"
      }
    },
    {
      "cell_type": "markdown",
      "source": [
        "From these results we can see that only when using economic data from Australia were we able to achieve better performance than when using only dates. This result is a bit surprising considering that contributions of economic features was small compared to dates, but maybe it was still enough to provide a small improvement to the validation score. The other point to consider is the overall short range of the data used during modelling, which might have scewed or hid the more complex trend over a larger period.\n",
        "\n",
        "In order to further improve performance several steps are possible. First, the more specialized feature engineering can help. That would require either doing a deep research into climate science or asking for assistance from domain experts. Another avenue of improvement is increasing the data range both for the training data and validation data. This would allow for more complex patterns (if they exists) to be observable. To do that more data needs to be collected, which is difficult due to the amount of sources and problems with those sources (restrictive licenses, too specialized data, missing and erronous data, etc.). The final thing that can be done is trying to see if the problem lies in not using methods more suitable for modelling time series data.\n",
        "\n"
      ],
      "metadata": {
        "id": "tiNI1SruTbB6"
      }
    },
    {
      "cell_type": "markdown",
      "source": [
        "# Contributions and takeaways"
      ],
      "metadata": {
        "id": "ZBX0Pbi15137"
      }
    },
    {
      "cell_type": "markdown",
      "source": [
        "The project's goal was to experiment with ways to predict minimum and maximum temperatures. For that the data was collected from two different sources. Working with several sources showed that doing so is more complex than using a single source due to differences in data formats, data availability and different quirks in how the sources collected and processed data. Doing preliminary EDA revealed problems in the data connected to the data availability in different time periods. EDA also was useful to form initial hypothesis, one of them being that the economic features wouldn't be too useful for modelling without extensive feature engineering or large data ranges. The modelling itself was done using a number of different data subsets and models. This allowed to understand better how the features did or did not interacat and how the choice of the model influences which features are useful. Additionaly, a method called Random Kitchen Sinks was used to show how new features can be randomly and quickly generated without much work in order to improve the performance of linear models."
      ],
      "metadata": {
        "id": "ZHSXmCKgpRPH"
      }
    }
  ]
}